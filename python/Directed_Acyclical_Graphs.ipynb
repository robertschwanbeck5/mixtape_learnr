{
 "cells": [
  {
   "cell_type": "markdown",
   "metadata": {},
   "source": [
    "## Welcome\n",
    "\n",
    "This is material for the **Directed Acyclical Graphs** chapter in Scott Cunningham's book, [Causal Inference: The Mixtape.](https://mixtape.scunning.com/)"
   ]
  },
  {
   "cell_type": "code",
   "execution_count": null,
   "metadata": {},
   "outputs": [],
   "source": [
    "import pandas as pd\n",
    "import numpy as np\n",
    "import statsmodels.api as sm\n",
    "from stargazer.stargazer import Stargazer\n",
    "\n",
    "import plotnine as p"
   ]
  },
  {
   "cell_type": "code",
   "execution_count": null,
   "metadata": {},
   "outputs": [],
   "source": [
    "# read data\n",
    "def read_data(file):\n",
    "    return pd.read_csv(\"https://github.com/scunning1975/mixtape/raw/master/\" + file)"
   ]
  },
  {
   "cell_type": "markdown",
   "metadata": {},
   "source": [
    "\n",
    "## Collider - Discrimination"
   ]
  },
  {
   "cell_type": "code",
   "execution_count": null,
   "metadata": {},
   "outputs": [],
   "source": [
    "tb = pd.DataFrame({\n",
    "    'female': np.random.binomial(1, .5, size=10000),\n",
    "    'ability': np.random.normal(size=10000)})\n",
    "tb['discrimination'] = tb.female.copy()\n",
    "tb['occupation'] = 1 + 2*tb['ability'] + 0*tb['female'] - 2*tb['discrimination'] + np.random.normal(size=10000)\n",
    "tb['wage'] = 1 - 1*tb['discrimination'] + 1*tb['occupation'] + 2*tb['ability'] + np.random.normal(size=10000) "
   ]
  },
  {
   "cell_type": "code",
   "execution_count": null,
   "metadata": {},
   "outputs": [],
   "source": [
    "\n",
    "lm_1 = sm.OLS.from_formula('wage ~ female', data=tb).fit()\n",
    "lm_2 = sm.OLS.from_formula('wage ~ female + occupation', data=tb).fit()\n",
    "lm_3 = sm.OLS.from_formula('wage ~ female + occupation + ability', data=tb).fit()\n",
    "\n",
    "\n",
    "st = Stargazer((lm_1,lm_2,lm_3))\n",
    "st.custom_columns([\"Biased Unconditional\", \"Biased\", \"Unbiased Conditional\"], [1, 1, 1])\n",
    "st"
   ]
  },
  {
   "cell_type": "markdown",
   "metadata": {},
   "source": [
    "#### QUESTIONS\n",
    "- What is the true direct effect of discrimination on wages?  \n",
    "- Explain the channels by which discrimination impacts wages.  \n",
    "- What makes occupation a collider?\n",
    "- What controls are necessary to eliminate this collider bias?\n",
    "\n",
    "\n",
    "\n",
    "## Movie Star"
   ]
  },
  {
   "cell_type": "code",
   "execution_count": null,
   "metadata": {},
   "outputs": [],
   "source": [
    "start_is_born = pd.DataFrame({\n",
    "    'beauty': np.random.normal(size=2500),\n",
    "    'talent': np.random.normal(size=2500)})\n",
    "    \n",
    "start_is_born['score'] = start_is_born['beauty'] + start_is_born['talent']\n",
    "start_is_born['c85'] = np.percentile(start_is_born['score'], q=85)\n",
    "start_is_born['star'] = 0\n",
    "start_is_born.loc[start_is_born['score']>start_is_born['c85'], 'star'] = 1\n",
    "start_is_born.head()"
   ]
  },
  {
   "cell_type": "code",
   "execution_count": null,
   "metadata": {},
   "outputs": [],
   "source": [
    "lm = sm.OLS.from_formula('beauty ~ talent', data=start_is_born).fit()\n",
    "\n",
    "p.ggplot(start_is_born, p.aes(x='talent', y='beauty')) +\\\n",
    "    p.geom_point(size = 0.5) +\\\n",
    "    p.xlim(-4, 4) +\\\n",
    "    p.ylim(-4, 4)"
   ]
  },
  {
   "cell_type": "code",
   "execution_count": null,
   "metadata": {},
   "outputs": [],
   "source": [
    "p.ggplot(start_is_born[start_is_born.star==1], p.aes(x='talent', y='beauty')) +\\\n",
    "    p.geom_point(size = 0.5) +\\\n",
    "    p.xlim(-4, 4) +\\\n",
    "    p.ylim(-4, 4)"
   ]
  },
  {
   "cell_type": "code",
   "execution_count": null,
   "metadata": {},
   "outputs": [],
   "source": [
    "p.ggplot(start_is_born[start_is_born.star==0], p.aes(x='talent', y='beauty')) +\\\n",
    "    p.geom_point(size = 0.5) +\\\n",
    "    p.xlim(-4, 4) +\\\n",
    "    p.ylim(-4, 4)"
   ]
  },
  {
   "cell_type": "markdown",
   "metadata": {},
   "source": [
    "#### QUESTIONS\n",
    "- What is the correlation between talent and beauty among stars?  Non-stars?\n",
    "- But what is the correlation between talent and beauty in the population?"
   ]
  },
  {
   "cell_type": "code",
   "execution_count": null,
   "metadata": {},
   "outputs": [],
   "source": []
  }
 ],
 "metadata": {
  "kernelspec": {
   "name": "python3",
   "display_name": "Python 3.8.5 64-bit",
   "metadata": {
    "interpreter": {
     "hash": "aee8b7b246df8f9039afb4144a1f6fd8d2ca17a180786b69acc140d282b71a49"
    }
   }
  },
  "language_info": {
   "codemirror_mode": {
    "name": "ipython",
    "version": 3
   },
   "file_extension": ".py",
   "mimetype": "text/x-python",
   "name": "python",
   "nbconvert_exporter": "python",
   "pygments_lexer": "ipython3",
   "version": "3.8.5-final"
  }
 },
 "nbformat": 4,
 "nbformat_minor": 4
}
