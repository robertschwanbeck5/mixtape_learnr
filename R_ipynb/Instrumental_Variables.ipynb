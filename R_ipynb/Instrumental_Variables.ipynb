{
 "cells": [
  {
   "cell_type": "markdown",
   "id": "alternative-kinase",
   "metadata": {},
   "source": [
    "\n",
    "## Welcome\n",
    "\n",
    "This is material for the **Instrumental Variables** chapter in Scott Cunningham's book, [Causal Inference: The Mixtape.](https://mixtape.scunning.com/)\n"
   ]
  },
  {
   "source": [
    "### Packages needed\n",
    "\n",
    "The first thing you need to do is install a few packages to make sure everything runs:"
   ],
   "cell_type": "markdown",
   "metadata": {}
  },
  {
   "cell_type": "code",
   "execution_count": null,
   "metadata": {},
   "outputs": [],
   "source": [
    "%load_ext rpy2.ipython"
   ]
  },
  {
   "cell_type": "code",
   "execution_count": null,
   "id": "imposed-characteristic",
   "metadata": {
    "attributes": {
     "": "",
     "classes": [],
     "id": ""
    }
   },
   "outputs": [],
   "source": [
    "%%R\n",
    "\n",
    "install.packages(\"tidyverse\")\n",
    "install.packages(\"cli\")\n",
    "install.packages(\"haven\")\n",
    "install.packages(\"estimatr\")\n",
    "install.packages(\"stargazer\")\n",
    "\n",
    "# For this chapter only\n",
    "install.packages(\"AER\")\n",
    "install.packages(\"lfe\")\n",
    "install.packages(\"SteinIV\")"
   ]
  },
  {
   "cell_type": "markdown",
   "id": "spoken-olympus",
   "metadata": {},
   "source": [
    "### Load"
   ]
  },
  {
   "cell_type": "code",
   "execution_count": null,
   "id": "professional-cannon",
   "metadata": {
    "attributes": {
     "classes": [],
     "id": "",
     "message": "FALSE",
     "warning": "FALSE,"
    }
   },
   "outputs": [],
   "source": [
    "%%R\n",
    "\n",
    "library(haven)\n",
    "library(tidyverse)\n",
    "library(estimatr)\n",
    "library(stargazer)\n",
    "\n",
    "# This chapter only\n",
    "library(AER)\n",
    "library(lfe)\n",
    "library(SteinIV)\n",
    "\n",
    "# read_data function\n",
    "read_data <- function(df) {\n",
    "  full_path <- paste0(\"https://github.com/scunning1975/mixtape/raw/master/\", df)\n",
    "  return(haven::read_dta(full_path))\n",
    "}"
   ]
  },
  {
   "cell_type": "markdown",
   "id": "quality-belly",
   "metadata": {},
   "source": [
    "## Card"
   ]
  },
  {
   "cell_type": "code",
   "execution_count": null,
   "id": "reverse-karma",
   "metadata": {
    "attributes": {
     "classes": [],
     "echo": "FALSE",
     "exercise": "TRUE,",
     "id": ""
    }
   },
   "outputs": [],
   "source": [
    "%%R\n",
    "\n",
    "card <- read_data(\"card.dta\")\n",
    "\n",
    "#OLS\n",
    "ols_reg <- lm(lwage ~ educ + exper + black + south + married + smsa, \n",
    "              data = card)\n",
    "\n",
    "cli::cli_h1(\"OLS\")\n",
    "summary(ols_reg)\n",
    "\n"
   ]
  },
  {
   "cell_type": "code",
   "execution_count": null,
   "metadata": {},
   "outputs": [],
   "source": [
    "%%R\n",
    "\n",
    "#2SLS\n",
    "iv_reg = ivreg(lwage ~ educ + exper + black + south + married + smsa \n",
    "               | nearc4 + exper + black + south + married + smsa, \n",
    "               data = card)\n",
    "\n",
    "cli::cli_h1(\"2SLS\")\n",
    "summary(iv_reg)"
   ]
  },
  {
   "cell_type": "markdown",
   "id": "prerequisite-backup",
   "metadata": {},
   "source": [
    "#### Questions\n",
    "- Interpret the coefficient on education when we used OLS versus when used 2SLS. \n",
    "- How does the estimated effect of education change when instrumenting with being close to a 4-year college?  That is, does the coefficient get larger or smaller compared to OLS?\n",
    "- If the only source of bias in our OLS regression was omitted heterogeneous ability, then will 2SLS be larger, smaller or the same as OLS estimate?  Why/why not?   \n",
    "- Is the finding of the causal effect of educating when using 2SLS, when compared to the estimate using OLS, consistent with ability bias?  What else do you think may be going on and why?\n",
    "- What sorts of individuals will go to college regardless of whether a college is near them?  What sorts of individuals will never go to a college even if one is near them?  And what sorts of people will go to a college if one is near them but won't go to college if it is not near them?\n",
    "\n",
    "\n",
    "\n",
    "\n",
    "## JIVE"
   ]
  },
  {
   "cell_type": "code",
   "execution_count": null,
   "id": "threaded-antique",
   "metadata": {
    "attributes": {
     "classes": [],
     "echo": "FALSE",
     "exercise": "TRUE,",
     "id": ""
    }
   },
   "outputs": [],
   "source": [
    "%%R\n",
    "\n",
    "judge <- read_data(\"judge_fe.dta\")\n",
    "\n",
    "#grouped variable names from the data set\n",
    "judge_pre <- judge %>% \n",
    "  select(starts_with(\"judge_\")) %>% \n",
    "  colnames() %>% \n",
    "  subset(., . != \"judge_pre_8\") %>% # remove one for colinearity\n",
    "  paste(., collapse = \" + \")\n",
    "\n",
    "demo <- judge %>% \n",
    "  select(black, age, male, white) %>% \n",
    "  colnames() %>% \n",
    "  paste(., collapse = \" + \")\n",
    "\n",
    "off <- judge %>% \n",
    "  select(fel, mis, sum, F1, F2, F3, M1, M2, M3, M) %>% \n",
    "  colnames() %>% \n",
    "  paste(., collapse = \" + \")\n",
    "\n",
    "prior <- judge %>% \n",
    "  select(priorCases, priorWI5, prior_felChar, \n",
    "         prior_guilt, onePrior, threePriors) %>% \n",
    "  colnames() %>% \n",
    "  paste(., collapse = \" + \")\n",
    "\n",
    "control2 <- judge %>%\n",
    "  mutate(bailDate = as.numeric(bailDate)) %>% \n",
    "  select(day, day2, bailDate, \n",
    "         t1, t2, t3, t4, t5) %>% # all but one time period for colinearity\n",
    "  colnames() %>% \n",
    "  paste(., collapse = \" + \")\n",
    "\n",
    "#formulas used in the OLS\n",
    "min_formula <- as.formula(paste(\"guilt ~ jail3 + \", control2))\n",
    "max_formula <- as.formula(paste(\"guilt ~ jail3 + possess + robbery + DUI1st + drugSell + aggAss\",\n",
    "                                demo, prior, off, control2, sep = \" + \"))\n",
    "\n",
    "#max variables and min variables\n",
    "min_ols <- lm_robust(min_formula, data = judge)\n",
    "max_ols <- lm_robust(max_formula, data = judge)\n",
    "\n",
    "cli::cli_h1(\"OLS\")\n",
    "texreg::knitreg(list(min_ols, max_ols))\n",
    "\n",
    "\n"
   ]
  },
  {
   "cell_type": "code",
   "execution_count": null,
   "metadata": {},
   "outputs": [],
   "source": [
    "%%R\n",
    "\n",
    "\n",
    "#--- Instrumental Variables Estimations\n",
    "#-- 2sls main results\n",
    "#- Min and Max Control formulas\n",
    "min_formula <- as.formula(paste(\"guilt ~ \", control2, \" | 0 | (jail3 ~ 0 +\", judge_pre, \")\"))\n",
    "max_formula <- as.formula(paste(\"guilt ~\", demo, \"+ possess +\", prior, \"+ robbery +\", \n",
    "                                off, \"+ DUI1st +\", control2, \"+ drugSell + aggAss | 0 | (jail3 ~ 0 +\", judge_pre, \")\"))\n",
    "\n",
    "#2sls for min and max\n",
    "\n",
    "min_iv <- lfe::felm(min_formula, data = judge)\n",
    "max_iv <- lfe::felm(max_formula, data = judge)\n",
    "\n",
    "cli::cli_h1(\"IV\")\n",
    "texreg::knitreg(list(min_iv, max_iv))\n"
   ]
  },
  {
   "cell_type": "code",
   "execution_count": null,
   "metadata": {},
   "outputs": [],
   "source": [
    "%%R\n",
    "\n",
    "#-- JIVE main results\n",
    "#- minimum controls\n",
    "y <- judge %>%\n",
    "  pull(guilt)\n",
    "\n",
    "X_min <- judge %>%\n",
    "  mutate(bailDate = as.numeric(bailDate)) %>%\n",
    "  select(jail3, day, day2, t1, t2, t3, t4, t5, bailDate) %>%\n",
    "  model.matrix(data = .,~.)\n",
    "\n",
    "Z_min <- judge %>%\n",
    "  mutate(bailDate = as.numeric(bailDate)) %>%\n",
    "  select(-judge_pre_8) %>%\n",
    "  select(starts_with(\"judge_pre\"), day, day2, t1, t2, t3, t4, t5, bailDate) %>%\n",
    "  model.matrix(data = .,~.)\n",
    "\n",
    "cli::cli_h1(\"JIVE minimum controls\")\n",
    "jive.est(y = y, X = X_min, Z = Z_min)"
   ]
  },
  {
   "cell_type": "code",
   "execution_count": null,
   "metadata": {},
   "outputs": [],
   "source": [
    "%%R\n",
    "\n",
    "#- maximum controls\n",
    "X_max <- judge %>%\n",
    "  mutate(bailDate = as.numeric(bailDate)) %>%\n",
    "  select(jail3, white, age, male, black,\n",
    "         possess, robbery, prior_guilt,\n",
    "         prior_guilt, onePrior, priorWI5, prior_felChar, priorCases,\n",
    "         DUI1st, drugSell, aggAss, fel, mis, sum,\n",
    "         threePriors,\n",
    "         F1, F2, F3,\n",
    "         M, M1, M2, M3,\n",
    "         day, day2, bailDate, \n",
    "         t1, t2, t3, t4, t5) %>%\n",
    "  model.matrix(data = .,~.)\n",
    "\n",
    "Z_max <- judge %>%\n",
    "  mutate(bailDate = as.numeric(bailDate)) %>%\n",
    "  select(-judge_pre_8) %>%\n",
    "  select(starts_with(\"judge_pre\"), white, age, male, black,\n",
    "         possess, robbery, prior_guilt,\n",
    "         prior_guilt, onePrior, priorWI5, prior_felChar, priorCases,\n",
    "         DUI1st, drugSell, aggAss, fel, mis, sum,\n",
    "         threePriors,\n",
    "         F1, F2, F3,\n",
    "         M, M1, M2, M3,\n",
    "         day, day2, bailDate, \n",
    "         t1, t2, t3, t4, t5) %>%\n",
    "  model.matrix(data = .,~.)\n",
    "\n",
    "cli::cli_h1(\"JIVE maximum controls\")\n",
    "jive.est(y = y, X = X_max, Z = Z_max)"
   ]
  },
  {
   "cell_type": "markdown",
   "id": "advisory-record",
   "metadata": {},
   "source": [
    "#### QUESTION\n",
    "- Interpret the coefficient on our two IV estimators?  How do they compare to our OLS estimate?\n",
    "- What is your conclusion about the effect that cash bail has on adjudication?  Speculate about the channels by which cash bail has this effect. \n",
    "- Describe the four sub-populations (e.g., always takers, never takers, defiers and compliers) in the context of Stevenson's study.\n",
    "- Discuss the plausibility of each of the 5 IV assumptions in Stevenson's case.  \n",
    "- Draw a DAG that must be true for Stevenson's JIVE estimates to be consistent?  Which assumptions are contained in this DAG and which ones are not easily visualized? \n",
    "- Assume judge A is stricter than judge B.  Monotonicity requires that if judge B sets a lower bail amount for that individual, then judge A will always set a higher for that individual hypothetically than judge B.  Provide some examples where you think this may be violated."
   ]
  }
 ],
 "metadata": {
  "kernelspec": {
   "name": "python3",
   "display_name": "Python 3.8.5 64-bit",
   "metadata": {
    "interpreter": {
     "hash": "aee8b7b246df8f9039afb4144a1f6fd8d2ca17a180786b69acc140d282b71a49"
    }
   }
  }
 },
 "nbformat": 4,
 "nbformat_minor": 5
}
