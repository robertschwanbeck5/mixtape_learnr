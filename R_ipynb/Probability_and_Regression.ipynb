{
 "cells": [
  {
   "cell_type": "markdown",
   "id": "cultural-terry",
   "metadata": {},
   "source": [
    "## Welcome\n",
    "\n",
    "This is material for the **Probability and Regression** chapter in Scott Cunningham's book, [Causal Inference: The Mixtape.](https://mixtape.scunning.com/)"
   ]
  },
  {
   "source": [
    "\n",
    "### Packages needed\n",
    "\n",
    "The first thing you need to do is install a few packages to make sure everything runs:"
   ],
   "cell_type": "markdown",
   "metadata": {}
  },
  {
   "cell_type": "code",
   "execution_count": null,
   "metadata": {},
   "outputs": [],
   "source": [
    "%load_ext rpy2.ipython"
   ]
  },
  {
   "cell_type": "code",
   "execution_count": null,
   "id": "stone-attachment",
   "metadata": {
    "attributes": {
     "": "",
     "classes": [],
     "id": ""
    }
   },
   "outputs": [],
   "source": [
    "%%R\n",
    "\n",
    "install.packages(\"tidyverse\")\n",
    "install.packages(\"cli\")\n",
    "install.packages(\"haven\")\n",
    "install.packages(\"estimatr\")\n",
    "\n",
    "# This Chapter Only\n",
    "install.packages(\"arm\")\n",
    "install.packages(\"mvtnorm\")\n",
    "install.packages(\"lme4\")\n",
    "install.packages(\"multiwayvcov\")\n",
    "install.packages(\"clusterSEs\")"
   ]
  },
  {
   "cell_type": "markdown",
   "id": "personalized-impression",
   "metadata": {},
   "source": [
    "### Load"
   ]
  },
  {
   "cell_type": "code",
   "execution_count": null,
   "id": "adult-details",
   "metadata": {
    "attributes": {
     "classes": [],
     "id": "",
     "message": "FALSE",
     "warning": "FALSE,"
    }
   },
   "outputs": [],
   "source": [
    "%%R\n",
    "\n",
    "library(haven)\n",
    "library(tidyverse)\n",
    "library(estimatr)\n",
    "library(stargazer)\n",
    "\n",
    "# This Chapter Only\n",
    "library(arm)\n",
    "library(mvtnorm)\n",
    "library(lme4)\n",
    "library(multiwayvcov)\n",
    "library(clusterSEs)\n",
    "\n",
    "# read_data function\n",
    "read_data <- function(df) {\n",
    "  full_path <- paste0(\"https://github.com/scunning1975/mixtape/raw/master/\", df)\n",
    "  return(haven::read_dta(full_path))\n",
    "}"
   ]
  },
  {
   "cell_type": "markdown",
   "id": "familiar-roller",
   "metadata": {},
   "source": [
    "## OLS"
   ]
  },
  {
   "cell_type": "code",
   "execution_count": null,
   "id": "expanded-mexican",
   "metadata": {
    "attributes": {
     "classes": [],
     "echo": "FALSE",
     "exercise": "TRUE,",
     "id": ""
    }
   },
   "outputs": [],
   "source": [
    "%%R\n",
    "\n",
    "cli::cli_alert_success(\"Generating Data\")\n",
    "\n",
    "set.seed(1)\n",
    "tb <- tibble(\n",
    "  x = rnorm(10000),\n",
    "  u = rnorm(10000),\n",
    "  y = 5.5*x + 12*u\n",
    ") \n",
    "\n",
    "reg_tb <- tb %>% \n",
    "  lm(y ~ x, .) %>%\n",
    "  print()\n",
    "\n",
    "reg_tb$coefficients\n",
    "\n",
    "tb <- tb %>% \n",
    "  mutate(\n",
    "    yhat1 = predict(lm(y ~ x, .)),\n",
    "    yhat2 = 0.0732608 + 5.685033*x, \n",
    "    uhat1 = residuals(lm(y ~ x, .)),\n",
    "    uhat2 = y - yhat2\n",
    "  )\n",
    "\n",
    "summary(tb[-1:-3])"
   ]
  },
  {
   "cell_type": "code",
   "execution_count": null,
   "metadata": {},
   "outputs": [],
   "source": [
    "%%R \n",
    "\n",
    "cli::cli_alert_success(\"Plotting Line of Best Fit\")\n",
    "\n",
    "ggplot(data= tb, aes(x=x, y=y)) + \n",
    "    ggtitle(\"OLS Regression Line\") +\n",
    "    geom_point(size = 0.05, color = \"black\", alpha = 0.5) +\n",
    "    geom_smooth(aes(x=x, y=y), method = \"lm\", color = \"black\") +\n",
    "    annotate(\"text\", x = -1.5, y = 30, color = \"red\", \n",
    "             label = paste(\"Intercept = \", -0.0732608)) +\n",
    "    annotate(\"text\", x = 1.5, y = -30, color = \"blue\", \n",
    "             label = paste(\"Slope =\", 5.685033))"
   ]
  },
  {
   "cell_type": "markdown",
   "id": "australian-shell",
   "metadata": {},
   "source": [
    "#### Questions:\n",
    "\n",
    "-   What is the predicted value of $y$ when $x = 0$?\n",
    "-   How much do we estimate $y$ increases by when $x$ increases by one unit?\n",
    "-   Assume we y was the natural log of some variable, and x was the natural log of some variable.  How do we interpret the coefficient on $x$ if it is a log-log regression?"
   ]
  },
  {
   "cell_type": "code",
   "execution_count": null,
   "id": "provincial-engine",
   "metadata": {
    "attributes": {
     "classes": [],
     "echo": "FALSE",
     "exercise": "TRUE,",
     "id": ""
    }
   },
   "outputs": [],
   "source": [
    "%%R\n",
    "\n",
    "tb <- tibble(\n",
    "  x = 9*rnorm(10),\n",
    "  u = 36*rnorm(10),\n",
    "  y = 3 + 2*x + u,\n",
    "  yhat = predict(lm(y ~ x)),\n",
    "  uhat = residuals(lm(y ~ x))\n",
    ")\n",
    "\n",
    "\n",
    "cli::cli_alert_success(\"Results from OLS\")\n",
    "summary(tb)\n",
    "\n"
   ]
  },
  {
   "cell_type": "code",
   "execution_count": null,
   "metadata": {},
   "outputs": [],
   "source": [
    "%%R \n",
    "\n",
    "colSums(tb)"
   ]
  },
  {
   "cell_type": "markdown",
   "id": "civil-nepal",
   "metadata": {},
   "source": [
    "#### Questions\n",
    "\n",
    "-   What is the average of the residuals $\\hat{u}$ from our regression?"
   ]
  },
  {
   "cell_type": "code",
   "execution_count": null,
   "id": "hungarian-invalid",
   "metadata": {
    "attributes": {
     "classes": [],
     "echo": "FALSE",
     "exercise": "TRUE,",
     "id": ""
    }
   },
   "outputs": [],
   "source": [
    "%%R\n",
    "\n",
    "cli::cli_alert_success(\"Running 1000 Simulations of OLS\")\n",
    "\n",
    "lm <- lapply(\n",
    "  1:1000,\n",
    "  function(x) tibble(\n",
    "    x = 9*rnorm(10000),\n",
    "    u = 36*rnorm(10000),\n",
    "    y = 3 + 2*x + u\n",
    "  ) %>% \n",
    "    lm(y ~ x, .)\n",
    ")\n",
    "\n",
    "as_tibble(t(sapply(lm, coef))) %>%\n",
    "  summary(x)\n"
   ]
  },
  {
   "cell_type": "code",
   "execution_count": null,
   "metadata": {},
   "outputs": [],
   "source": [
    "%%R \n",
    "\n",
    "as_tibble(t(sapply(lm, coef))) %>% \n",
    "  ggplot()+\n",
    "  geom_histogram(aes(x), binwidth = 0.01)"
   ]
  },
  {
   "cell_type": "markdown",
   "id": "female-missouri",
   "metadata": {},
   "source": [
    "#### Questions\n",
    "\n",
    "-   Explain the concept of unbiasedness in the context of this simulation?  \n",
    "-   On average, do we think the estimate is close to the true value of $\\beta_1 = 2$?"
   ]
  },
  {
   "cell_type": "code",
   "execution_count": null,
   "id": "domestic-surgeon",
   "metadata": {
    "attributes": {
     "classes": [],
     "echo": "FALSE",
     "exercise": "TRUE,",
     "id": ""
    }
   },
   "outputs": [],
   "source": [
    "%%R\n",
    "\n",
    "auto <- read_data(\"auto.dta\") %>% \n",
    "  mutate(length = length - mean(length))\n",
    "\n",
    "lm1 <- lm(price ~ length, auto)\n",
    "lm2 <- lm(price ~ length + weight + headroom + mpg, auto)\n",
    "\n",
    "\n",
    "coef_lm1 <- lm1$coefficients\n",
    "coef_lm2 <- lm2$coefficients\n",
    "resid_lm2 <- lm2$residuals \n",
    "\n",
    "y_single <- tibble(price = coef_lm1[1] + coef_lm1[2]*auto$length, \n",
    "                   length = auto$length)\n",
    "\n",
    "y_multi <- tibble(price = coef_lm1[1] + coef_lm2[2]*auto$length, \n",
    "                  length = auto$length)\n",
    "\n",
    "\n",
    "ggplot(auto) + \n",
    "  geom_point(aes(x = length, y = price)) +\n",
    "  geom_smooth(aes(x = length, y = price), data = y_multi, color = \"blue\") +\n",
    "  geom_smooth(aes(x = length, y = price), data = y_single, color=\"red\")"
   ]
  },
  {
   "cell_type": "markdown",
   "id": "accompanied-sugar",
   "metadata": {},
   "source": [
    "#### Questions\n",
    "\n",
    "-   What happened to the coefficient on length after controlling for weight, headroom, and mpg in the regression?\n",
    "\n",
    "## Clustering Standard Errors\n",
    "\n",
    "### Cluster robust standard errors\n",
    "\n",
    "People will try to scare you by challenging how you constructed your standard errors. Heteroskedastic errors, though, aren't the only thing you should be worried about when it comes to inference. Some phenomena do not affect observations individually, but they do affect groups of observations that involve individuals. And then they affect those individuals within the group in a common way. Say you want to estimate the effect of class size on student achievement, but you know that there exist unobservable things (like the teacher) that affect all the students equally. If we can commit to independence of these unobservables across classes, but individual student unobservables are correlated within a class, then we have a situation in which we need to cluster the standard errors. Before we dive into an example, I'd like to start with a simulation to illustrate the problem.\n",
    "\n",
    "As a baseline for this simulation, let's begin by simulating nonclustered data and analyze least squares estimates of that nonclustered data. This will help firm up our understanding of the problems that occur with least squares when data is clustered.\n",
    "\n",
    "First, I will create a function to generate our Monte Carlo simulation."
   ]
  },
  {
   "cell_type": "code",
   "execution_count": null,
   "id": "finished-suite",
   "metadata": {},
   "outputs": [],
   "source": [
    "%%R\n",
    "\n",
    "#- Analysis of Clustered Data\n",
    "#- Courtesy of Dr. Yuki Yanai, \n",
    "#- http://yukiyanai.github.io/teaching/rm1/contents/R/clustered-data-analysis.html\n",
    "\n",
    "cli::cli_alert_success(\"Simulation Functions Created\")\n",
    "\n",
    "gen_cluster <- function(param = c(.1, .5), n = 1000, n_cluster = 50, rho = .5) {\n",
    "  # Function to generate clustered data\n",
    "  # Required package: mvtnorm\n",
    "  \n",
    "  # individual level\n",
    "  Sigma_i <- matrix(c(1, 0, 0, 1 - rho), ncol = 2)\n",
    "  values_i <- rmvnorm(n = n, sigma = Sigma_i)\n",
    "  \n",
    "  # cluster level\n",
    "  cluster_name <- rep(1:n_cluster, each = n / n_cluster)\n",
    "  Sigma_cl <- matrix(c(1, 0, 0, rho), ncol = 2)\n",
    "  values_cl <- rmvnorm(n = n_cluster, sigma = Sigma_cl)\n",
    "  \n",
    "  # predictor var consists of individual- and cluster-level components\n",
    "  x <- values_i[ , 1] + rep(values_cl[ , 1], each = n / n_cluster)\n",
    "  \n",
    "  # error consists of individual- and cluster-level components\n",
    "  error <- values_i[ , 2] + rep(values_cl[ , 2], each = n / n_cluster)\n",
    "  \n",
    "  # data generating process\n",
    "  y <- param[1] + param[2]*x + error\n",
    "  \n",
    "  df <- data.frame(x, y, cluster = cluster_name)\n",
    "  return(df)\n",
    "}\n",
    "\n",
    "# Simulate a dataset with clusters and fit OLS\n",
    "# Calculate cluster-robust SE when cluster_robust = TRUE\n",
    "cluster_sim <- function(param = c(.1, .5), n = 1000, n_cluster = 50,\n",
    "                        rho = .5, cluster_robust = FALSE) {\n",
    "  # Required packages: mvtnorm, multiwayvcov\n",
    "  df <- gen_cluster(param = param, n = n , n_cluster = n_cluster, rho = rho)\n",
    "  fit <- lm(y ~ x, data = df)\n",
    "  b1 <- coef(fit)[2]\n",
    "  if (!cluster_robust) {\n",
    "    Sigma <- vcov(fit)\n",
    "    se <- sqrt(diag(Sigma)[2])\n",
    "    b1_ci95 <- confint(fit)[2, ]\n",
    "  } else { # cluster-robust SE\n",
    "    Sigma <- cluster.vcov(fit, ~ cluster)\n",
    "    se <- sqrt(diag(Sigma)[2])\n",
    "    t_critical <- qt(.025, df = n - 2, lower.tail = FALSE)\n",
    "    lower <- b1 - t_critical*se\n",
    "    upper <- b1 + t_critical*se\n",
    "    b1_ci95 <- c(lower, upper)\n",
    "  }\n",
    "  return(c(b1, se, b1_ci95))\n",
    "}\n",
    "\n",
    "# Function to iterate the simulation. A data frame is returned.\n",
    "run_cluster_sim <- function(n_sims = 1000, param = c(.1, .5), n = 1000,\n",
    "                            n_cluster = 50, rho = .5, cluster_robust = FALSE) {\n",
    "  # Required packages: mvtnorm, multiwayvcov, dplyr\n",
    "  df <- replicate(n_sims, cluster_sim(param = param, n = n, rho = rho,\n",
    "                                      n_cluster = n_cluster,\n",
    "                                      cluster_robust = cluster_robust))\n",
    "  df <- as.data.frame(t(df))\n",
    "  names(df) <- c('b1', 'se_b1', 'ci95_lower', 'ci95_upper')\n",
    "  df <- df %>% \n",
    "    mutate(id = 1:n(),\n",
    "           param_caught = ci95_lower <= param[2] & ci95_upper >= param[2])\n",
    "  return(df)\n",
    "}\n",
    "\n"
   ]
  },
  {
   "cell_type": "markdown",
   "id": "placed-speaking",
   "metadata": {},
   "source": [
    "### Case 1: No Correlation\n",
    "\n",
    "For the first simulation, the data will be generated with $\\beta_1 = 0$ and no correlation between the error terms."
   ]
  },
  {
   "cell_type": "code",
   "execution_count": null,
   "id": "korean-respect",
   "metadata": {
    "attributes": {
     "": "",
     "classes": [],
     "id": ""
    }
   },
   "outputs": [],
   "source": [
    "%%R\n",
    "\n",
    "# Distribution of the estimator and confidence intervals\n",
    "cli::cli_alert_success(\"Running Simulation\")\n",
    "sim_params <- c(.4, 0)   # beta1 = 0: no effect of x on y\n",
    "sim_nocluster <- run_cluster_sim(n_sims = 1000, param = sim_params, rho = 0)\n",
    "\n",
    "cli::cli_alert_success(\"Plot: Distribution of Betas\")\n",
    "(ggplot(sim_nocluster, aes(b1)) +\n",
    "  geom_histogram(color = 'black') +\n",
    "  geom_vline(xintercept = sim_params[2], color = 'red'))\n",
    "\n"
   ]
  },
  {
   "cell_type": "code",
   "execution_count": null,
   "metadata": {},
   "outputs": [],
   "source": [
    "%%R\n",
    "\n",
    "cli::cli_alert_success(\"Plot: Confidence Intervals\")\n",
    "(ggplot(sample_n(sim_nocluster, 100),\n",
    "                         aes(x = reorder(id, b1), y = b1, \n",
    "                             ymin = ci95_lower, ymax = ci95_upper,\n",
    "                             color = param_caught)) +\n",
    "  geom_hline(yintercept = sim_params[2], linetype = 'dashed') +\n",
    "  geom_pointrange() +\n",
    "  labs(x = 'sim ID', y = 'b1', title = 'Randomly Chosen 100 95% CIs') +\n",
    "  scale_color_discrete(name = 'True param value', labels = c('missed', 'hit')) +\n",
    "  coord_flip())\n"
   ]
  },
  {
   "cell_type": "code",
   "execution_count": null,
   "metadata": {},
   "outputs": [],
   "source": [
    "1 - sum(sim_nocluster$param_caught)/nrow(sim_nocluster)"
   ]
  },
  {
   "cell_type": "markdown",
   "id": "improving-retailer",
   "metadata": {},
   "source": [
    "#### Questions:\n",
    "\n",
    "-   What point does the least squares estimate appear to be centered on?\n",
    "-   Setting the significance level at 5%, we should incorrectly reject the null that $\\beta_1=0$ about 5% of the time in our simulations. About what percent of the time does the 95% confidence intervals contain the true value of $\\beta_1 = 0$?\n",
    "\n",
    "### Case 2: Clustered Data\n",
    "\n",
    "Now let's resimulate our data with observations that are no longer independent draws in a given cluster of observations, but the true value of $\\beta_1$ still is 0."
   ]
  },
  {
   "cell_type": "code",
   "execution_count": null,
   "id": "neither-forth",
   "metadata": {
    "attributes": {
     "classes": [],
     "echo": "FALSE",
     "exercise": "TRUE,",
     "id": ""
    }
   },
   "outputs": [],
   "source": [
    "%%R\n",
    "\n",
    "sim_params <- c(.4, 0)   # beta1 = 0: no effect of x on y\n",
    "sim_cluster_ols <- run_cluster_sim(n_sims = 1000, param = sim_params)\n",
    "\n",
    "cli::cli_alert_success(\"Plot: Distribution of Betas\")\n",
    "(ggplot(sim_cluster_ols, aes(b1)) +\n",
    "  geom_histogram(color = 'black') +\n",
    "  geom_vline(xintercept = sim_params[2], color = 'red'))\n"
   ]
  },
  {
   "cell_type": "code",
   "execution_count": null,
   "metadata": {},
   "outputs": [],
   "source": [
    "%%R\n",
    "cli::cli_alert_success(\"Plot: Confidence Intervals\")\n",
    "(ggplot(sample_n(sim_cluster_ols, 100),\n",
    "                         aes(x = reorder(id, b1), y = b1, \n",
    "                             ymin = ci95_lower, ymax = ci95_upper,\n",
    "                             color = param_caught)) +\n",
    "  geom_hline(yintercept = sim_params[2], linetype = 'dashed') +\n",
    "  geom_pointrange() +\n",
    "  labs(x = 'sim ID', y = 'b1', title = 'Randomly Chosen 100 95% CIs') +\n",
    "  scale_color_discrete(name = 'True param value', labels = c('missed', 'hit')) +\n",
    "  coord_flip())"
   ]
  },
  {
   "cell_type": "code",
   "execution_count": null,
   "metadata": {},
   "outputs": [],
   "source": [
    "%%R\n",
    "\n",
    "1 - sum(sim_cluster_ols$param_caught)/nrow(sim_cluster_ols)"
   ]
  },
  {
   "cell_type": "markdown",
   "id": "lasting-indie",
   "metadata": {},
   "source": [
    "#### Questions:\n",
    "\n",
    "-   When the errors are clustered, does the distribution of $\\hat{\\beta}_1$ estimates get wider or narrower?\n",
    "-   When the errors are clustered, do we incorrectly reject the null more or less frequently?"
   ]
  }
 ],
 "metadata": {
  "kernelspec": {
   "name": "python3",
   "display_name": "Python 3.8.5 64-bit",
   "metadata": {
    "interpreter": {
     "hash": "aee8b7b246df8f9039afb4144a1f6fd8d2ca17a180786b69acc140d282b71a49"
    }
   }
  }
 },
 "nbformat": 4,
 "nbformat_minor": 5
}
