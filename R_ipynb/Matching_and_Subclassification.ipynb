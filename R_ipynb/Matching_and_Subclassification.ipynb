{
 "cells": [
  {
   "cell_type": "markdown",
   "id": "fitting-baseball",
   "metadata": {},
   "source": [
    "## Welcome\n",
    "\n",
    "This is material for the **Matching and Subclassification** chapter in Scott Cunningham's book, [Causal Inference: The Mixtape.](https://mixtape.scunning.com/)\n",
    "\n"
   ]
  },
  {
   "source": [
    "\n",
    "### Packages needed\n",
    "\n",
    "The first thing you need to do is install a few packages to make sure everything runs:"
   ],
   "cell_type": "markdown",
   "metadata": {}
  },
  {
   "cell_type": "code",
   "execution_count": null,
   "metadata": {},
   "outputs": [],
   "source": [
    "%load_ext rpy2.ipython"
   ]
  },
  {
   "cell_type": "code",
   "execution_count": null,
   "id": "indian-sussex",
   "metadata": {
    "attributes": {
     "": "",
     "classes": [],
     "id": ""
    }
   },
   "outputs": [],
   "source": [
    "%%R\n",
    "\n",
    "install.packages(\"tidyverse\")\n",
    "install.packages(\"cli\")\n",
    "install.packages(\"haven\")\n",
    "install.packages(\"stargazer\")\n",
    "install.packages(\"estimatr\")\n",
    "\n",
    "# For this chapter only\n",
    "install.packages(\"MatchIt\")\n",
    "install.packages(\"cem\")"
   ]
  },
  {
   "cell_type": "markdown",
   "id": "metric-spencer",
   "metadata": {},
   "source": [
    "### Load"
   ]
  },
  {
   "cell_type": "code",
   "execution_count": null,
   "id": "gross-clinton",
   "metadata": {
    "attributes": {
     "classes": [],
     "id": "",
     "message": "FALSE",
     "warning": "FALSE,"
    }
   },
   "outputs": [],
   "source": [
    "%%R\n",
    "\n",
    "library(tidyverse)\n",
    "library(haven)\n",
    "library(stargazer)\n",
    "\n",
    "# For this chapter only\n",
    "library(MatchIt)\n",
    "library(cem)\n",
    "library(estimatr)\n",
    "\n",
    "\n",
    "\n",
    "# read_data function\n",
    "read_data <- function(df) {\n",
    "  full_path <- paste0(\"https://github.com/scunning1975/mixtape/raw/master/\", df)\n",
    "  return(haven::read_dta(full_path))\n",
    "}"
   ]
  },
  {
   "cell_type": "markdown",
   "id": "induced-explanation",
   "metadata": {},
   "source": [
    "## Titatnic"
   ]
  },
  {
   "cell_type": "code",
   "execution_count": null,
   "id": "overall-return",
   "metadata": {
    "attributes": {
     "classes": [],
     "echo": "FALSE",
     "exercise": "TRUE,",
     "id": ""
    }
   },
   "outputs": [],
   "source": [
    "%%R\n",
    "\n",
    "## Simple Difference in Outcomes\n",
    "\n",
    "titanic <- read_data(\"titanic.dta\") %>% \n",
    "  mutate(d = case_when(class == 1 ~ 1, TRUE ~ 0))\n",
    "\n",
    "ey1 <- titanic %>% \n",
    "  filter(d == 1) %>%\n",
    "  pull(survived) %>% \n",
    "  mean()\n",
    "\n",
    "ey0 <- titanic %>% \n",
    "  filter(d == 0) %>%\n",
    "  pull(survived) %>% \n",
    "  mean()\n",
    "\n",
    "sdo <- ey1 - ey0\n",
    "\n",
    "cli::cli_text(\"The {.emph simple difference in outcomes} estimate is {round(sdo,2)}\")\n"
   ]
  },
  {
   "cell_type": "code",
   "execution_count": null,
   "metadata": {},
   "outputs": [],
   "source": [
    "%%R \n",
    "\n",
    "## Weighted Average Treatment Effect \n",
    "titanic <- titanic %>% \n",
    "  mutate(s = case_when(sex == 0 & age == 1 ~ 1,\n",
    "                       sex == 0 & age == 0 ~ 2,\n",
    "                       sex == 1 & age == 1 ~ 3,\n",
    "                       sex == 1 & age == 0 ~ 4,\n",
    "                       TRUE ~ 0))\n",
    "\n",
    "ey11 <- titanic %>% \n",
    "  filter(s == 1 & d == 1) %>%\n",
    "  pull(survived) %>% mean()\n",
    "\n",
    "ey10 <- titanic %>% \n",
    "  filter(s == 1 & d == 0) %>%\n",
    "  pull(survived) %>% mean()\n",
    "\n",
    "ey21 <- titanic %>% \n",
    "  filter(s == 2 & d == 1) %>%\n",
    "  pull(survived) %>% mean()\n",
    "\n",
    "ey20 <- titanic %>% \n",
    "  filter(s == 2 & d == 0) %>%\n",
    "  pull(survived) %>% mean()\n",
    "\n",
    "ey31 <- titanic %>% \n",
    "  filter(s == 3 & d == 1) %>%\n",
    "  pull(survived) %>% mean()\n",
    "\n",
    "ey30 <- titanic %>% \n",
    "  filter(s == 3 & d == 0) %>%\n",
    "  pull(survived) %>% mean()\n",
    "\n",
    "ey41 <- titanic %>% \n",
    "  filter(s == 4 & d == 1) %>%\n",
    "  pull(survived) %>% mean()\n",
    "\n",
    "ey40 <- titanic %>% \n",
    "  filter(s == 4 & d == 0) %>%\n",
    "  pull(survived) %>% mean()\n",
    "\n",
    "diff1 = ey11 - ey10\n",
    "diff2 = ey21 - ey20\n",
    "diff3 = ey31 - ey30\n",
    "diff4 = ey41 - ey40\n",
    "\n",
    "obs = nrow(titanic %>% filter(d == 0))\n",
    "\n",
    "wt1 <- titanic %>% \n",
    "  filter(s == 1 & d == 0) %>%\n",
    "  nrow(.)/obs\n",
    "\n",
    "wt2 <- titanic %>% \n",
    "  filter(s == 2 & d == 0) %>%\n",
    "  nrow(.)/obs\n",
    "\n",
    "wt3 <- titanic %>% \n",
    "  filter(s == 3 & d == 0) %>%\n",
    "  nrow(.)/obs\n",
    "\n",
    "wt4 <- titanic %>% \n",
    "  filter(s == 4 & d == 0) %>%\n",
    "  nrow(.)/obs\n",
    "\n",
    "wate = diff1*wt1 + diff2*wt2 + diff3*wt3 + diff4*wt4\n",
    "\n",
    "cli::cli_text(\"The {.emph weigthted average treatment effect} estimate is {round(wate,2)}\")"
   ]
  },
  {
   "cell_type": "markdown",
   "id": "circular-popularity",
   "metadata": {},
   "source": [
    "#### Questions\n",
    "- Using the simple difference in outcomes, how much does the probability of survival increase for first-class passengers relative to some control group?\n",
    "- Explain in your own words what stratifying on gender and age did for this difference in outcomes between treatment and control?\n",
    "- After stratifying on gender and age, what happens to the difference in probability of survival between first-class and non-first-class passengers?\n",
    "\n",
    "\n",
    "\n",
    "## Training Example\n",
    "\n",
    "First, we will look at the distribution of age between the treated and non-treated groups"
   ]
  },
  {
   "cell_type": "code",
   "execution_count": null,
   "id": "painted-converter",
   "metadata": {},
   "outputs": [],
   "source": [
    "%%R\n",
    "\n",
    "training_example <- read_data(\"training_example.dta\") %>% \n",
    "  slice(1:20)\n",
    "\n",
    "ggplot(training_example, aes(x=age_treat)) +\n",
    "  stat_bin(bins = 10, na.rm = TRUE)\n"
   ]
  },
  {
   "cell_type": "code",
   "execution_count": null,
   "metadata": {},
   "outputs": [],
   "source": [
    "%%R \n",
    "\n",
    "ggplot(training_example, aes(x=age_control)) +\n",
    "  geom_histogram(bins = 10, na.rm = TRUE)"
   ]
  },
  {
   "cell_type": "markdown",
   "id": "unsigned-tiffany",
   "metadata": {},
   "source": [
    "#### Questions\n",
    "\n",
    "- Compare the distribution of ages between the treated and the control groups. How do they differ, if at all?"
   ]
  },
  {
   "cell_type": "code",
   "execution_count": null,
   "id": "forward-ethics",
   "metadata": {
    "attributes": {
     "classes": [],
     "echo": "FALSE",
     "exercise": "TRUE,",
     "id": ""
    }
   },
   "outputs": [],
   "source": [
    "%%R\n",
    "\n",
    "training_bias_reduction <- read_data(\"training_bias_reduction.dta\") %>% \n",
    "    mutate(\n",
    "      Y1 = case_when(Unit %in% c(1,2,3,4) ~ Y),\n",
    "      Y0 = c(4,0,5,1,4,0,5,1)\n",
    "    )\n",
    "\n",
    "train_reg <- lm(Y ~ X, training_bias_reduction)\n",
    "\n",
    "training_bias_reduction <- training_bias_reduction %>% \n",
    "  mutate(u_hat0 = predict(train_reg))\n",
    "\n",
    "\n",
    "training_bias_reduction %>% \n",
    "  select(Unit, Y1, Y0, Y, D, X, u_hat0)\n",
    "\n",
    "\n"
   ]
  },
  {
   "cell_type": "markdown",
   "id": "thorough-knife",
   "metadata": {},
   "source": [
    "## National Supported Work Demonstration Experiment\n",
    "\n",
    "To compare results, let's first look at the treatment effect identified by a true experiment."
   ]
  },
  {
   "cell_type": "code",
   "execution_count": null,
   "id": "injured-reader",
   "metadata": {
    "attributes": {
     "classes": [],
     "echo": "FALSE",
     "exercise": "TRUE,",
     "id": ""
    }
   },
   "outputs": [],
   "source": [
    "%%R\n",
    "\n",
    "nsw_dw <- read_data(\"nsw_mixtape.dta\")\n",
    "\n",
    "mean1 <- nsw_dw %>% \n",
    "  filter(treat == 1) %>% \n",
    "  pull(re78) %>% \n",
    "  mean()\n",
    "\n",
    "mean0 <- nsw_dw %>% \n",
    "  filter(treat == 0) %>% \n",
    "  pull(re78) %>% \n",
    "  mean()\n",
    "\n",
    "\n",
    "ate <- unique(mean1 - mean0)\n",
    "\n",
    "cli::cli_text(\"The {.emph experimental ATE} estimate is {round(ate,2)}\")\n",
    "\n"
   ]
  },
  {
   "cell_type": "markdown",
   "id": "minus-description",
   "metadata": {},
   "source": [
    "#### Questions\n",
    "- How do you interpret the above estimated ATE?\n",
    "- Say you were interested in the ATT.  Can you report the ATT from a randomized experiment?  If so, what is it? If not, why not?\n",
    "\n",
    "\n",
    "\n",
    "Now, lets turn to a non-experimental control group. We first have to load the data from the CPS. and estimate the propensity score"
   ]
  },
  {
   "cell_type": "code",
   "execution_count": null,
   "id": "ambient-necessity",
   "metadata": {},
   "outputs": [],
   "source": [
    "%%R\n",
    "\n",
    "# Prepare data for logit \n",
    "nsw_dw_cpscontrol <- read_data(\"cps_mixtape.dta\") %>% \n",
    "  bind_rows(nsw_dw) %>% \n",
    "  mutate(\n",
    "    agesq = age^2,\n",
    "    agecube = age^3,\n",
    "    educsq = educ*educ,\n",
    "    u74 = case_when(re74 == 0 ~ 1, TRUE ~ 0),\n",
    "    u75 = case_when(re75 == 0 ~ 1, TRUE ~ 0),\n",
    "    interaction1 = educ*re74,\n",
    "    re74sq = re74^2,\n",
    "    re75sq = re75^2,\n",
    "    interaction2 = u74*hisp\n",
    "  )\n",
    "\n",
    "# estimating propensity score\n",
    "logit_nsw <- glm(treat ~ age + agesq + agecube + educ + educsq + \n",
    "                   marr + nodegree + black + hisp + re74 + re75 + u74 +\n",
    "                   u75 + interaction1, family = binomial(link = \"logit\"), \n",
    "                 data = nsw_dw_cpscontrol)\n",
    "\n",
    "nsw_dw_cpscontrol <- nsw_dw_cpscontrol %>% \n",
    "  mutate(pscore = logit_nsw$fitted.values)\n"
   ]
  },
  {
   "cell_type": "code",
   "execution_count": null,
   "id": "whole-celtic",
   "metadata": {
    "attributes": {
     "classes": [],
     "echo": "FALSE",
     "exercise": "TRUE,",
     "id": ""
    }
   },
   "outputs": [],
   "source": [
    "%%R\n",
    "\n",
    "# mean pscore \n",
    "pscore_control <- nsw_dw_cpscontrol %>% \n",
    "  filter(treat == 0) %>% \n",
    "  pull(pscore) %>% \n",
    "  mean()\n",
    "\n",
    "pscore_treated <- nsw_dw_cpscontrol %>% \n",
    "  filter(treat == 1) %>% \n",
    "  pull(pscore) %>% \n",
    "  mean()\n",
    "\n",
    "cli::cli_text(\"The mean propensity score among the treated group is {round(pscore_treated, 2)} and among the control group is {round(pscore_control, 2)}\")\n"
   ]
  },
  {
   "cell_type": "code",
   "execution_count": null,
   "metadata": {},
   "outputs": [],
   "source": [
    "%%R\n",
    "\n",
    "# Untreated pscores\n",
    "nsw_dw_cpscontrol %>% \n",
    "  filter(treat == 0) %>% \n",
    "  ggplot() +\n",
    "  geom_histogram(aes(x = pscore))\n"
   ]
  },
  {
   "cell_type": "code",
   "execution_count": null,
   "metadata": {},
   "outputs": [],
   "source": [
    "%%R\n",
    "\n",
    "# Treated pscores\n",
    "nsw_dw_cpscontrol %>% \n",
    "  filter(treat == 1) %>% \n",
    "  ggplot() +\n",
    "  geom_histogram(aes(x = pscore))"
   ]
  },
  {
   "cell_type": "markdown",
   "id": "great-alert",
   "metadata": {},
   "source": [
    "#### Questions\n",
    "- Compare the mean propensity score between the treated and the control groups. What does this reveal about the two groups?\n",
    "- Compare the distribution of propensity scores between the treated and the control groups. How do they differ, if at all?"
   ]
  },
  {
   "cell_type": "code",
   "execution_count": null,
   "id": "overhead-gasoline",
   "metadata": {
    "attributes": {
     "classes": [],
     "echo": "FALSE",
     "exercise": "TRUE,",
     "id": ""
    }
   },
   "outputs": [],
   "source": [
    "%%R\n",
    "\n",
    "#continuation\n",
    "N <- nrow(nsw_dw_cpscontrol)\n",
    "\n",
    "# Manual with non-normalized weights using all data\n",
    "nsw_dw_cpscontrol <- nsw_dw_cpscontrol %>% \n",
    "  mutate(d1 = treat/pscore,\n",
    "         d0 = (1-treat)/(1-pscore))\n",
    "\n",
    "s1 <- sum(nsw_dw_cpscontrol$d1)\n",
    "s0 <- sum(nsw_dw_cpscontrol$d0)\n",
    "\n",
    "nsw_dw_cpscontrol <- nsw_dw_cpscontrol %>% \n",
    "  mutate(y1 = treat * re78/pscore,\n",
    "         y0 = (1-treat) * re78/(1-pscore),\n",
    "         ht = y1 - y0)\n",
    "\n",
    "te_1 <- nsw_dw_cpscontrol %>% \n",
    "  pull(ht) %>% \n",
    "  mean()\n",
    "\n",
    "cli::cli_text(\"Treatment Effect {.emph (non-normalized, all data)}: {round(te_1, 2)}\")\n",
    "\n"
   ]
  },
  {
   "cell_type": "code",
   "execution_count": null,
   "metadata": {},
   "outputs": [],
   "source": [
    "%%R\n",
    "\n",
    "# Manual with normalized weights\n",
    "nsw_dw_cpscontrol <- nsw_dw_cpscontrol %>% \n",
    "  mutate(y1 = (treat*re78/pscore)/(s1/N),\n",
    "         y0 = ((1-treat)*re78/(1-pscore))/(s0/N),\n",
    "         norm = y1 - y0)\n",
    "\n",
    "te_2 <- nsw_dw_cpscontrol %>% \n",
    "  pull(norm) %>% \n",
    "  mean()\n",
    "\n",
    "cli::cli_text(\"Treatment Effect {.emph (normalized, all data)}: {round(te_2, 2)}\")"
   ]
  },
  {
   "cell_type": "code",
   "execution_count": null,
   "metadata": {},
   "outputs": [],
   "source": [
    "%%R\n",
    "\n",
    "# Trimming propensity score ---------------\n",
    "nsw_dw_trimmed <- nsw_dw_cpscontrol %>% \n",
    "  dplyr::select(-d1, -d0, -y1, -y0, -ht, -norm) %>% \n",
    "  filter(!(pscore >= 0.9)) %>% \n",
    "  filter(!(pscore <= 0.1))\n",
    "\n",
    "N <- nrow(nsw_dw_trimmed)\n",
    "\n",
    "# Manual with non-normalized weights using trimmed data\n",
    "nsw_dw_trimmed <- nsw_dw_trimmed %>% \n",
    "  mutate(d1 = treat/pscore,\n",
    "         d0 = (1-treat)/(1-pscore))\n",
    "\n",
    "s1 <- sum(nsw_dw_trimmed$d1)\n",
    "s0 <- sum(nsw_dw_trimmed$d0)\n",
    "\n",
    "nsw_dw_trimmed <- nsw_dw_trimmed %>% \n",
    "  mutate(y1 = treat * re78/pscore,\n",
    "         y0 = (1-treat) * re78/(1-pscore),\n",
    "         ht = y1 - y0)\n",
    "\n",
    "\n",
    "te_3 <- nsw_dw_trimmed %>% \n",
    "  pull(ht) %>% \n",
    "  mean()\n",
    "\n",
    "cli::cli_text(\"Treatment Effect {.emph (non-normalized, trimmed data)}: {round(te_3, 2)}\")\n"
   ]
  },
  {
   "cell_type": "code",
   "execution_count": null,
   "metadata": {},
   "outputs": [],
   "source": [
    "%%R\n",
    "\n",
    "# Manual with normalized weights with trimmed data\n",
    "nsw_dw_trimmed <- nsw_dw_trimmed %>% \n",
    "  mutate(y1 = (treat*re78/pscore)/(s1/N),\n",
    "         y0 = ((1-treat)*re78/(1-pscore))/(s0/N),\n",
    "         norm = y1 - y0)\n",
    "\n",
    "te_4 <- nsw_dw_trimmed %>% \n",
    "  pull(norm) %>% \n",
    "  mean()\n",
    "\n",
    "cli::cli_text(\"Treatment Effect {.emph (normalized, trimmed data)}: {round(te_4, 2)}\")"
   ]
  },
  {
   "cell_type": "markdown",
   "id": "reverse-gambling",
   "metadata": {},
   "source": [
    "#### Questions\n",
    "\n",
    "- Explain the overlap condition in the context of these data.  How did we ensure that overlap held in the data? \n",
    "- When we are using non-trimmed data, why is the treatment effect negative? (*hint:* it has to do with extreme probability scores)\n",
    "- What does this imply about the challenges of using non-experimental data when estimating causal effects, and why is conditioning on a trimmed propensity score important?\n",
    "\n",
    "\n",
    "## Nearest-Neighbor Matching"
   ]
  },
  {
   "cell_type": "code",
   "execution_count": null,
   "id": "rubber-enough",
   "metadata": {
    "attributes": {
     "classes": [],
     "echo": "FALSE",
     "exercise": "TRUE,",
     "id": ""
    }
   },
   "outputs": [],
   "source": [
    "%%R\n",
    "\n",
    "m_out <- matchit(treat ~ age + agesq + agecube + educ +\n",
    "                   educsq + marr + nodegree +\n",
    "                   black + hisp + re74 + re75 + \n",
    "                   u74 + u75 + interaction1,\n",
    "                 data = nsw_dw_cpscontrol, \n",
    "                 method = \"nearest\", min.controls=5)\n",
    "\n",
    "m_data <- match.data(m_out)\n",
    "\n",
    "(m_ate <- lm_robust(re78 ~ treat, \n",
    "               data = m_data,\n",
    "               weights = m_data$weights))\n",
    "\n"
   ]
  },
  {
   "cell_type": "code",
   "execution_count": null,
   "id": "sunrise-improvement",
   "metadata": {
    "attributes": {
     "classes": [],
     "echo": "FALSE",
     "exercise": "TRUE,",
     "id": ""
    }
   },
   "outputs": [],
   "source": [
    "%%R\n",
    "\n",
    "m_out <- matchit(treat ~ age + agesq + agecube + educ +\n",
    "                   educsq + marr + nodegree +\n",
    "                   black + hisp + re74 + re75 + \n",
    "                   u74 + u75 + interaction1,\n",
    "                 data = nsw_dw_cpscontrol, \n",
    "                 method = \"cem\", min.controls=5)\n",
    "\n",
    "m_data <- match.data(m_out)\n",
    "\n",
    "(m_ate <- lm_robust(re78 ~ treat, \n",
    "               data = m_data,\n",
    "               weights = m_data$weights))\n",
    "\n"
   ]
  },
  {
   "cell_type": "markdown",
   "id": "listed-corpus",
   "metadata": {},
   "source": [
    "#### Questions\n",
    "- Compare our results from nearest-neighbor matching to what we found using the experimental data, the simple difference in outcomes using non-experimental controls, and propensity score weighting using non-experimental controls.\n",
    "- DIFFICULT: Write a program that performs bootstrapping to get an estimate of the variance of the estimator. (HINT: Write a loop)"
   ]
  }
 ],
 "metadata": {
  "kernelspec": {
   "name": "python3",
   "display_name": "Python 3.8.5 64-bit",
   "metadata": {
    "interpreter": {
     "hash": "aee8b7b246df8f9039afb4144a1f6fd8d2ca17a180786b69acc140d282b71a49"
    }
   }
  }
 },
 "nbformat": 4,
 "nbformat_minor": 5
}
