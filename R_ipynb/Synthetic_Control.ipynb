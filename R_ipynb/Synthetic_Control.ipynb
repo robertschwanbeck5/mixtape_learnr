{
 "cells": [
  {
   "cell_type": "markdown",
   "id": "respected-appendix",
   "metadata": {},
   "source": [
    "## Welcome\n",
    "\n",
    "This is material for the **Synthetic Control** chapter in Scott Cunningham's book, [Causal Inference: The Mixtape.](https://mixtape.scunning.com/)"
   ]
  },
  {
   "source": [
    "### Packages needed\n",
    "\n",
    "The first thing you need to do is install a few packages to make sure everything runs:"
   ],
   "cell_type": "markdown",
   "metadata": {}
  },
  {
   "cell_type": "code",
   "execution_count": null,
   "metadata": {},
   "outputs": [],
   "source": [
    "%load_ext rpy2.ipython"
   ]
  },
  {
   "cell_type": "code",
   "execution_count": null,
   "id": "expensive-provider",
   "metadata": {
    "attributes": {
     "": "",
     "classes": [],
     "id": ""
    }
   },
   "outputs": [],
   "source": [
    "%%R \n",
    "\n",
    "install.packages(\"tidyverse\")\n",
    "install.packages(\"cli\")\n",
    "install.packages(\"haven\")\n",
    "install.packages(\"stargazer\")\n",
    "\n",
    "# This chapter only\n",
    "install.packages(\"robustbase\")\n",
    "install.packages(\"Synth\")\n",
    "install.packages(\"devtools\")\n",
    "devtools::install_github(\"bcastanho/SCtools\")"
   ]
  },
  {
   "cell_type": "markdown",
   "id": "peaceful-addiction",
   "metadata": {},
   "source": [
    "### Load"
   ]
  },
  {
   "cell_type": "code",
   "execution_count": null,
   "id": "equipped-honduras",
   "metadata": {
    "attributes": {
     "classes": [],
     "id": "",
     "message": "FALSE",
     "warning": "FALSE,"
    }
   },
   "outputs": [],
   "source": [
    "%%R \n",
    "\n",
    "library(haven)\n",
    "library(tidyverse)\n",
    "library(stargazer)\n",
    "\n",
    "# This chapter only\n",
    "library(Synth)\n",
    "library(SCtools)\n",
    "\n",
    "# read_data function\n",
    "read_data <- function(df) {\n",
    "  full_path <- paste0(\"https://github.com/scunning1975/mixtape/raw/master/\", df)\n",
    "  return(haven::read_dta(full_path))\n",
    "}"
   ]
  },
  {
   "cell_type": "markdown",
   "id": "dangerous-aquarium",
   "metadata": {},
   "source": [
    "## Prison Construction and Black Male Incarceration"
   ]
  },
  {
   "cell_type": "code",
   "execution_count": null,
   "id": "numerous-reader",
   "metadata": {
    "attributes": {
     "classes": [],
     "echo": "FALSE",
     "exercise": "TRUE,",
     "id": ""
    }
   },
   "outputs": [],
   "source": [
    "%%R \n",
    "\n",
    "texas <- read_data(\"texas.dta\") %>%\n",
    "  as.data.frame(.)\n",
    "\n",
    "dataprep_out <- dataprep(\n",
    "  foo = texas,\n",
    "  predictors = c(\"poverty\", \"income\"),\n",
    "  predictors.op = \"mean\",\n",
    "  time.predictors.prior = 1985:1993,\n",
    "  special.predictors = list(\n",
    "    list(\"bmprison\", c(1988, 1990:1992), \"mean\"),\n",
    "    list(\"alcohol\", 1990, \"mean\"),\n",
    "    list(\"aidscapita\", 1990:1991, \"mean\"),\n",
    "    list(\"black\", 1990:1992, \"mean\"),\n",
    "    list(\"perc1519\", 1990, \"mean\")),\n",
    "  dependent = \"bmprison\",\n",
    "  unit.variable = \"statefip\",\n",
    "  unit.names.variable = \"state\",\n",
    "  time.variable = \"year\",\n",
    "  treatment.identifier = 48,\n",
    "  controls.identifier = c(1,2,4:6,8:13,15:42,44:47,49:51,53:56),\n",
    "  time.optimize.ssr = 1985:1993,\n",
    "  time.plot = 1985:2000\n",
    ")\n",
    "\n",
    "synth_out <- synth(data.prep.obj = dataprep_out)\n"
   ]
  },
  {
   "cell_type": "code",
   "execution_count": null,
   "metadata": {},
   "outputs": [],
   "source": [
    "%%R\n",
    "\n",
    "cli::cli_h1(\"Path Plot\")\n",
    "path.plot(synth_out, dataprep_out)"
   ]
  },
  {
   "cell_type": "code",
   "execution_count": null,
   "metadata": {},
   "outputs": [],
   "source": [
    "%%R\n",
    "\n",
    "cli::cli_h1(\"Gap Plot\")\n",
    "gaps.plot(synth_out, dataprep_out)"
   ]
  },
  {
   "cell_type": "code",
   "execution_count": null,
   "metadata": {},
   "outputs": [],
   "source": [
    "%%R\n",
    "\n",
    "cli::cli_h1(\"Placebos\")\n",
    "placebos <- generate.placebos(dataprep_out, synth_out, Sigf.ipop = 3)\n",
    "\n",
    "plot_placebos(placebos)\n",
    "\n",
    "mspe.plot(placebos, discard.extreme = TRUE, mspe.limit = 1, plot.hist = TRUE)"
   ]
  },
  {
   "cell_type": "markdown",
   "id": "boring-soldier",
   "metadata": {},
   "source": [
    "#### Questions\n",
    "- In your own words, what do you think the identifying assumptions are for synthetic control to be consistent? \n",
    "- What role, if any, does parallel trends play in synthetic control?\n",
    "- Who is the unit with the largest ratio of post to pre RMSPE?  \n",
    "- Compare the unit with the largest post to pre RMSPE estimated effect to the Texas effect.  How do the weights compare?  How do the size of the effects compare?  How do the ``signs`` of the effects compare?\n",
    "- Can you improve on my fit by experimenting with different combinations? Do so and report your analysis.\n",
    "- Report results from a variety of different specifications.  How robust does the prison effect appear to be?"
   ]
  }
 ],
 "metadata": {
  "kernelspec": {
   "name": "python3",
   "display_name": "Python 3.8.5 64-bit",
   "metadata": {
    "interpreter": {
     "hash": "aee8b7b246df8f9039afb4144a1f6fd8d2ca17a180786b69acc140d282b71a49"
    }
   }
  }
 },
 "nbformat": 4,
 "nbformat_minor": 5
}
