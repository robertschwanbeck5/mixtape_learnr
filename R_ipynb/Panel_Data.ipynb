{
 "cells": [
  {
   "cell_type": "markdown",
   "id": "rural-animal",
   "metadata": {},
   "source": [
    "## Welcome\n",
    "\n",
    "This is material for the **Panel Data** chapter in Scott Cunningham's book, [Causal Inference: The Mixtape.](https://mixtape.scunning.com/)\n",
    "\n"
   ]
  },
  {
   "source": [
    "### Packages needed\n",
    "\n",
    "The first thing you need to do is install a few packages to make sure everything runs:"
   ],
   "cell_type": "markdown",
   "metadata": {}
  },
  {
   "cell_type": "code",
   "execution_count": null,
   "metadata": {},
   "outputs": [],
   "source": [
    "%load_ext rpy2.ipython"
   ]
  },
  {
   "cell_type": "code",
   "execution_count": null,
   "id": "breathing-overhead",
   "metadata": {
    "attributes": {
     "": "",
     "classes": [],
     "id": ""
    }
   },
   "outputs": [],
   "source": [
    "%%R\n",
    "\n",
    "install.packages(\"tidyverse\")\n",
    "install.packages(\"cli\")\n",
    "install.packages(\"haven\")\n",
    "install.packages(\"stargazer\")\n",
    "install.packages(\"estimatr\")\n",
    "\n",
    "# This Chapter Only\n",
    "install.packages(\"plm\")"
   ]
  },
  {
   "cell_type": "markdown",
   "id": "contemporary-watershed",
   "metadata": {},
   "source": [
    "### Load"
   ]
  },
  {
   "cell_type": "code",
   "execution_count": null,
   "id": "willing-courage",
   "metadata": {
    "attributes": {
     "classes": [],
     "id": "",
     "message": "FALSE",
     "warning": "FALSE,"
    }
   },
   "outputs": [],
   "source": [
    "%%R\n",
    "\n",
    "library(tidyverse)\n",
    "library(haven)\n",
    "library(stargazer)\n",
    "library(estimatr)\n",
    "\n",
    "# This Chapter Only\n",
    "library(plm)\n",
    "\n",
    "# read_data function\n",
    "read_data <- function(df) {\n",
    "  full_path <- paste0(\"https://github.com/scunning1975/mixtape/raw/master/\", df)\n",
    "  return(haven::read_dta(full_path))\n",
    "}\n"
   ]
  },
  {
   "cell_type": "markdown",
   "id": "studied-strip",
   "metadata": {},
   "source": [
    "## Survey of Adult Service Providers"
   ]
  },
  {
   "cell_type": "code",
   "execution_count": null,
   "id": "leading-springfield",
   "metadata": {
    "attributes": {
     "classes": [],
     "echo": "FALSE",
     "exercise": "TRUE,",
     "id": ""
    }
   },
   "outputs": [],
   "source": [
    "%%R\n",
    "\n",
    "sasp <- read_data(\"sasp_panel.dta\")\n",
    "\n",
    "#-- Delete all NA\n",
    "sasp <- na.omit(sasp)\n",
    "\n",
    "#-- order by id and session \n",
    "sasp <- sasp %>% \n",
    "  arrange(id, session)\n",
    "\n",
    "#Balance Data\n",
    "balanced_sasp <- make.pbalanced(sasp, balance.type = \"shared.individuals\")\n",
    "\n",
    "#Demean Data\n",
    "balanced_sasp <- balanced_sasp %>% \n",
    "  mutate( \n",
    "    demean_lnw = lnw - ave(lnw, id),\n",
    "    demean_age = age - ave(age, id),\n",
    "    demean_asq = asq - ave(asq, id),\n",
    "    demean_bmi = bmi - ave(bmi, id),\n",
    "    demean_hispanic = hispanic - ave(hispanic, id),\n",
    "    demean_black = black - ave(black, id),\n",
    "    demean_other = other - ave(other, id),\n",
    "    demean_asian = asian - ave(asian, id),\n",
    "    demean_schooling = schooling - ave(schooling, id),\n",
    "    demean_cohab = cohab - ave(cohab, id),\n",
    "    demean_married = married - ave(married, id),\n",
    "    demean_divorced = divorced - ave(divorced, id),\n",
    "    demean_separated = separated - ave(separated, id),\n",
    "    demean_age_cl = age_cl - ave(age_cl, id),\n",
    "    demean_unsafe = unsafe - ave(unsafe, id),\n",
    "    demean_llength = llength - ave(llength, id),\n",
    "    demean_reg = reg - ave(reg, id),\n",
    "    demean_asq_cl = asq_cl - ave(asq_cl, id),\n",
    "    demean_appearance_cl = appearance_cl - ave(appearance_cl, id),\n",
    "    demean_provider_second = provider_second - ave(provider_second, id),\n",
    "    demean_asian_cl = asian_cl - ave(asian_cl, id),\n",
    "    demean_black_cl = black_cl - ave(black_cl, id),\n",
    "    demean_hispanic_cl = hispanic_cl - ave(hispanic_cl, id),\n",
    "    demean_othrace_cl = othrace_cl - ave(lnw, id),\n",
    "    demean_hot = hot - ave(hot, id),\n",
    "    demean_massage_cl = massage_cl - ave(massage_cl, id)\n",
    "  )\n",
    "\n"
   ]
  },
  {
   "cell_type": "code",
   "execution_count": null,
   "metadata": {},
   "outputs": [],
   "source": [
    "%%R\n",
    "\n",
    "#-- POLS\n",
    "cli::cli_h1(\"Pooled OLS\") \n",
    "ols <- lm_robust(lnw ~ age + asq + bmi + hispanic + black + other + asian + schooling + cohab + married + divorced + separated + \n",
    "           age_cl + unsafe + llength + reg + asq_cl + appearance_cl + provider_second + asian_cl + black_cl + hispanic_cl + \n",
    "           othrace_cl + hot + massage_cl, data = balanced_sasp)\n",
    "\n",
    "summary(ols)"
   ]
  },
  {
   "cell_type": "code",
   "execution_count": null,
   "metadata": {},
   "outputs": [],
   "source": [
    "%%R\n",
    "\n",
    "#-- FE\n",
    "cli::cli_h1(\"Fixed Effects\") \n",
    "formula <- as.formula(\"lnw ~ age + asq + bmi + hispanic + black + other + asian + schooling + \n",
    "                      cohab + married + divorced + separated + \n",
    "                      age_cl + unsafe + llength + reg + asq_cl + appearance_cl + \n",
    "                      provider_second + asian_cl + black_cl + hispanic_cl + \n",
    "                      othrace_cl + hot + massage_cl\")\n",
    "\n",
    "model_fe <- lm_robust(formula = formula,\n",
    "                  data = balanced_sasp, \n",
    "                  fixed_effect = ~id, \n",
    "                  se_type = \"stata\")\n",
    "\n",
    "summary(model_fe)"
   ]
  },
  {
   "cell_type": "code",
   "execution_count": null,
   "metadata": {},
   "outputs": [],
   "source": [
    "%%R\n",
    "\n",
    "#-- Demean OLS\n",
    "cli::cli_h1(\"Demeaned OLS\") \n",
    "dm_formula <- as.formula(\"demean_lnw ~ demean_age + demean_asq + demean_bmi + \n",
    "                demean_hispanic + demean_black + demean_other +\n",
    "                demean_asian + demean_schooling + demean_cohab + \n",
    "                demean_married + demean_divorced + demean_separated +\n",
    "                demean_age_cl + demean_unsafe + demean_llength + demean_reg + \n",
    "                demean_asq_cl + demean_appearance_cl + \n",
    "                demean_provider_second + demean_asian_cl + demean_black_cl + \n",
    "                demean_hispanic_cl + demean_othrace_cl +\n",
    "                demean_hot + demean_massage_cl\")\n",
    "\n",
    "ols_demean <- lm_robust(formula = dm_formula, \n",
    "                data = balanced_sasp, clusters = id,\n",
    "                se_type = \"stata\")\n",
    "\n",
    "summary(ols_demean)"
   ]
  },
  {
   "cell_type": "markdown",
   "id": "therapeutic-smooth",
   "metadata": {},
   "source": [
    "#### QUESTIONS\n",
    "- Interpret the effect of natural log of session length on the natural log of hourly wage.  Describe the economic theory that might explain this relationship?  (HINT: Consider the role that supplier fixed versus variable costs may have on the hourly wage.)\n",
    "- Becker described discrimination in terms of ``taste based``.  This meant that social interactions with people of the other race were factors into marginal cost.  Given that these persist, what does this imply about the effect that competition is having on discrimination?\n",
    "- Hamermesh and Biddle suggest that beauty is valued on the market.  Describe some reasons why there is no effect on client beauty once we use the within estimators?\n",
    "- What other interesting results did you find in this analysis?  Which ones surprised you and which ones were intuitive and why?"
   ]
  }
 ],
 "metadata": {
  "kernelspec": {
   "name": "python3",
   "display_name": "Python 3.8.5 64-bit",
   "metadata": {
    "interpreter": {
     "hash": "aee8b7b246df8f9039afb4144a1f6fd8d2ca17a180786b69acc140d282b71a49"
    }
   }
  }
 },
 "nbformat": 4,
 "nbformat_minor": 5
}
