{
 "cells": [
  {
   "cell_type": "markdown",
   "id": "mounted-touch",
   "metadata": {},
   "source": [
    "\n",
    "## Welcome\n",
    "\n",
    "This is material for the **Directed Acyclical Graphs** chapter in Scott Cunningham's book, [Causal Inference: The Mixtape.](https://mixtape.scunning.com/)\n",
    "\n"
   ]
  },
  {
   "source": [
    "### Packages needed\n",
    "\n",
    "The first thing you need to do is install a few packages to make sure everything runs:"
   ],
   "cell_type": "markdown",
   "metadata": {}
  },
  {
   "cell_type": "code",
   "execution_count": null,
   "metadata": {},
   "outputs": [],
   "source": [
    "%load_ext rpy2.ipython"
   ]
  },
  {
   "cell_type": "code",
   "execution_count": null,
   "id": "soviet-messaging",
   "metadata": {
    "attributes": {
     "": "",
     "classes": [],
     "id": ""
    }
   },
   "outputs": [],
   "source": [
    "%%R\n",
    "\n",
    "install.packages(\"tidyverse\")\n",
    "install.packages(\"cli\")\n",
    "install.packages(\"haven\")\n",
    "install.packages(\"estimatr\")"
   ]
  },
  {
   "cell_type": "markdown",
   "id": "destroyed-mortality",
   "metadata": {},
   "source": [
    "### Load"
   ]
  },
  {
   "cell_type": "code",
   "execution_count": null,
   "id": "spectacular-giant",
   "metadata": {
    "attributes": {
     "classes": [],
     "id": "",
     "message": "FALSE",
     "warning": "FALSE,"
    }
   },
   "outputs": [],
   "source": [
    "%%R\n",
    "\n",
    "library(haven)\n",
    "library(tidyverse)\n",
    "library(estimatr)\n",
    "library(stargazer)\n",
    "library(cli)\n",
    "\n",
    "# read_data function\n",
    "read_data <- function(df) {\n",
    "  full_path <- paste0(\"https://github.com/scunning1975/mixtape/raw/master/\", df)\n",
    "  return(haven::read_dta(full_path))\n",
    "}"
   ]
  },
  {
   "cell_type": "markdown",
   "id": "anonymous-difference",
   "metadata": {},
   "source": [
    "## Collider - Discrimination"
   ]
  },
  {
   "cell_type": "code",
   "execution_count": null,
   "id": "found-macedonia",
   "metadata": {
    "attributes": {
     "classes": [],
     "echo": "FALSE",
     "exercise": "TRUE,",
     "id": ""
    }
   },
   "outputs": [],
   "source": [
    "%%R\n",
    "\n",
    "tb <- tibble(\n",
    "  female = ifelse(runif(10000)>=0.5,1,0),\n",
    "  ability = rnorm(10000),\n",
    "  discrimination = female,\n",
    "  occupation = 1 + 2*ability + 0*female - 2*discrimination + rnorm(10000),\n",
    "  wage = 1 - 1*discrimination + 1*occupation + 2*ability + rnorm(10000) \n",
    ")\n",
    "\n",
    "lm_1 <- lm(wage ~ female, tb)\n",
    "lm_2 <- lm(wage ~ female + occupation, tb)\n",
    "lm_3 <- lm(wage ~ female + occupation + ability, tb)\n",
    "\n",
    "stargazer(lm_1,lm_2,lm_3, \n",
    "\t\t  type = \"text\", \n",
    "          column.labels = c(\"Biased Unconditional\", \"Biased\", \"Unbiased Conditional\")\n",
    "\t\t )\n",
    "\n"
   ]
  },
  {
   "cell_type": "markdown",
   "id": "identical-gross",
   "metadata": {},
   "source": [
    "#### QUESTIONS\n",
    "- What is the true direct effect of discrimination on wages?  \n",
    "- Explain the channels by which discrimination impacts wages.  \n",
    "- What makes occupation a collider?\n",
    "- What controls are necessary to eliminate this collider bias?\n",
    "\n",
    "\n",
    "\n",
    "## Movie Star"
   ]
  },
  {
   "cell_type": "code",
   "execution_count": null,
   "id": "pharmaceutical-continent",
   "metadata": {
    "attributes": {
     "classes": [],
     "echo": "FALSE",
     "exercise": "TRUE,",
     "id": ""
    }
   },
   "outputs": [],
   "source": [
    "%%R\n",
    "\n",
    "set.seed(3444)\n",
    "\n",
    "star_is_born <- tibble(\n",
    "  beauty = rnorm(2500),\n",
    "  talent = rnorm(2500),\n",
    "  score = beauty + talent,\n",
    "  c85 = quantile(score, .85),\n",
    "  star = ifelse(score>=c85,1,0)\n",
    ")\n",
    "\n",
    "cli::cli_h1(\"Full Sample\")\n",
    "star_is_born %>% \n",
    "  lm(beauty ~ talent, .) %>% \n",
    "  ggplot(aes(x = talent, y = beauty)) +\n",
    "  geom_point(size = 0.5, shape=23) + xlim(-4, 4) + ylim(-4, 4)\n"
   ]
  },
  {
   "cell_type": "code",
   "execution_count": null,
   "metadata": {},
   "outputs": [],
   "source": [
    "%%R\n",
    "\n",
    "cli::cli_h1(\"Conditional on Being a Star\")\n",
    "star_is_born %>% \n",
    "  filter(star == 1) %>% \n",
    "  lm(beauty ~ talent, .) %>% \n",
    "  ggplot(aes(x = talent, y = beauty)) +\n",
    "  geom_point(size = 0.5, shape=23) + xlim(-4, 4) + ylim(-4, 4)\n"
   ]
  },
  {
   "cell_type": "code",
   "execution_count": null,
   "metadata": {},
   "outputs": [],
   "source": [
    "%%R\n",
    "\n",
    "cli::cli_h1(\"Conditional on Not Being a Star\")\n",
    "star_is_born %>% \n",
    "  filter(star == 0) %>% \n",
    "  lm(beauty ~ talent, .) %>% \n",
    "  ggplot(aes(x = talent, y = beauty)) +\n",
    "  geom_point(size = 0.5, shape=23) + xlim(-4, 4) + ylim(-4, 4)"
   ]
  },
  {
   "cell_type": "markdown",
   "id": "wanted-pittsburgh",
   "metadata": {},
   "source": [
    "#### QUESTIONS\n",
    "- What is the correlation between talent and beauty among stars?  Non-stars?\n",
    "- But what is the correlation between talent and beauty in the population?"
   ]
  }
 ],
 "metadata": {
  "kernelspec": {
   "name": "python3",
   "display_name": "Python 3.8.5 64-bit",
   "metadata": {
    "interpreter": {
     "hash": "aee8b7b246df8f9039afb4144a1f6fd8d2ca17a180786b69acc140d282b71a49"
    }
   }
  }
 },
 "nbformat": 4,
 "nbformat_minor": 5
}
