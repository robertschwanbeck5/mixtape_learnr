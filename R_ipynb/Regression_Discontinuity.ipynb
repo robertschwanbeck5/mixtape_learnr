{
 "cells": [
  {
   "cell_type": "markdown",
   "id": "distributed-flesh",
   "metadata": {},
   "source": [
    "## Welcome\n",
    "\n",
    "This is material for the **Regression Discontinuity** chapter in Scott Cunningham's book, [Causal Inference: The Mixtape.](https://mixtape.scunning.com/)\n",
    "\n"
   ]
  },
  {
   "source": [
    "\n",
    "### Packages needed\n",
    "\n",
    "The first thing you need to do is install a few packages to make sure everything runs:"
   ],
   "cell_type": "markdown",
   "metadata": {}
  },
  {
   "cell_type": "code",
   "execution_count": null,
   "metadata": {},
   "outputs": [],
   "source": [
    "%load_ext rpy2.ipython"
   ]
  },
  {
   "cell_type": "code",
   "execution_count": null,
   "id": "talented-concentrate",
   "metadata": {
    "attributes": {
     "": "",
     "classes": [],
     "id": ""
    }
   },
   "outputs": [],
   "source": [
    "%%R\n",
    "\n",
    "install.packages(\"tidyverse\")\n",
    "install.packages(\"cli\")\n",
    "install.packages(\"haven\")\n",
    "install.packages(\"stargazer\")\n",
    "\n",
    "# This chapter only\n",
    "install.packages(\"estimatr\")\n",
    "install.packages(\"rdd\")\n",
    "install.packages(\"rdrobust\")\n",
    "install.packages(\"rddensity\")"
   ]
  },
  {
   "cell_type": "markdown",
   "id": "joined-moldova",
   "metadata": {},
   "source": [
    "### Load"
   ]
  },
  {
   "cell_type": "code",
   "execution_count": null,
   "id": "drawn-malta",
   "metadata": {
    "attributes": {
     "classes": [],
     "id": "",
     "message": "FALSE",
     "warning": "FALSE,"
    }
   },
   "outputs": [],
   "source": [
    "%%R\n",
    "\n",
    "library(learnr)\n",
    "library(haven)\n",
    "library(tidyverse)\n",
    "library(stargazer)\n",
    "library(estimatr)\n",
    "\n",
    "# This chapter only\n",
    "library(rdd)\n",
    "library(rdrobust)\n",
    "library(rddensity)\n",
    "\n",
    "# read_data function\n",
    "read_data <- function(df) {\n",
    "  full_path <- paste0(\"https://github.com/scunning1975/mixtape/raw/master/\", df)\n",
    "  return(haven::read_dta(full_path))\n",
    "}"
   ]
  },
  {
   "cell_type": "markdown",
   "id": "advisory-shore",
   "metadata": {},
   "source": [
    "## RDD Simulation\n",
    "\n",
    "Generate a simple Regression Discontinuity, before and after the treatment is given."
   ]
  },
  {
   "cell_type": "code",
   "execution_count": null,
   "id": "chicken-rochester",
   "metadata": {
    "attributes": {
     "classes": [],
     "echo": "FALSE",
     "exercise": "TRUE,",
     "id": ""
    }
   },
   "outputs": [],
   "source": [
    "%%R\n",
    "\n",
    "# simulate the data\n",
    "dat <- tibble(\n",
    "    x = rnorm(1000, 50, 25)\n",
    "  ) %>%\n",
    "  mutate(\n",
    "    x = if_else(x < 0, 0, x)\n",
    "  ) %>%\n",
    "  filter(x < 100)\n",
    "\n",
    "# cutoff at x = 50\n",
    "dat <- dat %>% \n",
    "  mutate(\n",
    "    D  = if_else(x > 50, 1, 0),\n",
    "    y1 = 25 + 0 * D + 1.5 * x + rnorm(n(), 0, 20)\n",
    "  )\n",
    "\n",
    "cli::cli_text(\"Counterfactual Potential Outcomes\")\n",
    "ggplot(aes(x, y1, colour = factor(D)), data = dat) +\n",
    "  geom_point(alpha = 0.5) +\n",
    "  geom_vline(xintercept = 50, colour = \"grey\", linetype = 2)+\n",
    "  stat_smooth(method = \"lm\", se = F) +\n",
    "  labs(x = \"Test score (X)\", y = \"Potential Outcome (Y1)\")\n",
    "\n",
    "\n",
    "# simulate the discontinuity\n",
    "dat <- dat %>%\n",
    "  mutate(\n",
    "    y2 = 25 + 40 * D + 1.5 * x + rnorm(n(), 0, 20)\n",
    "  )\n",
    "\n",
    "cli::cli_text(\"Potential Outcomes after Treatment\")\n",
    "ggplot(aes(x, y2, colour = factor(D)), data = dat) +\n",
    "  geom_point(alpha = 0.5) +\n",
    "  geom_vline(xintercept = 50, colour = \"grey\", linetype = 2) +\n",
    "  stat_smooth(method = \"lm\", se = F) +\n",
    "  labs(x = \"Test score (X)\", y = \"Potential Outcome (Y)\")"
   ]
  },
  {
   "cell_type": "code",
   "execution_count": null,
   "id": "later-given",
   "metadata": {
    "attributes": {
     "classes": [],
     "echo": "FALSE",
     "exercise": "TRUE,",
     "id": ""
    }
   },
   "outputs": [],
   "source": [
    "%%R\n",
    "\n",
    "# simultate nonlinearity\n",
    "dat <- tibble(\n",
    "    x = rnorm(1000, 100, 50)\n",
    "  ) %>% \n",
    "  mutate(\n",
    "    x = case_when(x < 0 ~ 0, TRUE ~ x),\n",
    "    D = case_when(x > 140 ~ 1, TRUE ~ 0),\n",
    "    x2 = x*x,\n",
    "    x3 = x*x*x,\n",
    "    y3 = 10000 + 0 * D - 100 * x + x2 + rnorm(1000, 0, 1000)\n",
    "  ) %>% \n",
    "  filter(x < 280)\n",
    "\n",
    "\n",
    "# Linear Model for conditional expectation\n",
    "ggplot(aes(x, y3, colour = factor(D)), data = dat) +\n",
    "  geom_point(alpha = 0.2) +\n",
    "  geom_vline(xintercept = 140, colour = \"grey\", linetype = 2) +\n",
    "  stat_smooth(method = \"lm\", se = F) +\n",
    "  labs(x = \"Test score (X)\", y = \"Potential Outcome (Y)\")\n",
    "\n",
    "# LOESS conditional expectation\n",
    "ggplot(aes(x, y3, colour = factor(D)), data = dat) +\n",
    "  geom_point(alpha = 0.2) +\n",
    "  geom_vline(xintercept = 140, colour = \"grey\", linetype = 2) +\n",
    "  stat_smooth(method = \"loess\", se = F) +\n",
    "  labs(x = \"Test score (X)\", y = \"Potential Outcome (Y)\")\n",
    "\n"
   ]
  },
  {
   "cell_type": "markdown",
   "id": "wrong-philosophy",
   "metadata": {},
   "source": [
    "#### Questions\n",
    "- If you estimated the treatment effect using the linear model, would your treatment effect estimate be near the true treatment effect?"
   ]
  },
  {
   "cell_type": "code",
   "execution_count": null,
   "id": "bored-anime",
   "metadata": {
    "attributes": {
     "classes": [],
     "echo": "FALSE",
     "exercise": "TRUE,",
     "id": ""
    }
   },
   "outputs": [],
   "source": [
    "%%R\n",
    "\n",
    "set.seed(12282020)\n",
    "\n",
    "dat <- tibble(\n",
    "    x = rnorm(1000, 100, 50)\n",
    "  ) %>% \n",
    "  mutate(\n",
    "    x = case_when(x < 0 ~ 0, TRUE ~ x),\n",
    "    D = case_when(x > 140 ~ 1, TRUE ~ 0),\n",
    "    x2 = x*x,\n",
    "    x3 = x*x*x,\n",
    "    # TRUE DGP \n",
    "    y3 = 10000 + 0 * D - 100 * x + x2 + rnorm(1000, 0, 1000)\n",
    "  ) %>% \n",
    "  filter(x < 280)\n",
    "\n",
    "# Fully interacted regression\n",
    "regression <- lm(y3 ~ D*., data = dat)\n",
    "  \n",
    "stargazer(regression, type = \"text\")\n",
    "\n",
    "ggplot(aes(x, y3, colour = factor(D)), data = dat) +\n",
    "  geom_point(alpha = 0.2) +\n",
    "  geom_vline(xintercept = 140, colour = \"grey\", linetype = 2) +\n",
    "  stat_smooth(method = \"loess\", se = F) +\n",
    "  labs(x = \"Test score (X)\", y = \"Potential Outcome (Y)\")\n",
    "\n"
   ]
  },
  {
   "cell_type": "markdown",
   "id": "statutory-favor",
   "metadata": {},
   "source": [
    "#### Question\n",
    "- What did you estimate as the treatment effect using a third order polynomial of the running variable? Is it statistically significantly different from zero?\n",
    "- Does the estimated treatment effect seem correct from the graph?\n",
    "\n",
    "\n",
    "\n",
    "\n",
    "\n",
    "## The Close Election Design\n",
    "\n",
    "Lets load the data from Lee et. al. (2004):"
   ]
  },
  {
   "cell_type": "code",
   "execution_count": null,
   "id": "exempt-savage",
   "metadata": {},
   "outputs": [],
   "source": [
    "%%R\n",
    "\n",
    "lmb_data <- read_data(\"lmb-data.dta\") %>% \n",
    "  mutate(demvoteshare_c = demvoteshare - 0.5)\n"
   ]
  },
  {
   "cell_type": "code",
   "execution_count": null,
   "id": "neutral-international",
   "metadata": {
    "attributes": {
     "classes": [],
     "echo": "FALSE",
     "exercise": "TRUE,",
     "id": ""
    }
   },
   "outputs": [],
   "source": [
    "%%R\n",
    "\n",
    "lmb_subset <- lmb_data %>% \n",
    "  filter(lagdemvoteshare>.48 & lagdemvoteshare<.52) \n",
    "lm_1 <- lm_robust(score ~ lagdemocrat, data = lmb_subset, clusters = id)\n",
    "lm_2 <- lm_robust(score ~ democrat, data = lmb_subset, clusters = id)\n",
    "lm_3 <- lm_robust(democrat ~ lagdemocrat, data = lmb_subset, clusters = id)\n",
    "\n",
    "cli::cli_text(\"Original results based on ADA Scores -- Close Elections Sample\")\n",
    "texreg::screenreg(list(lm_1, lm_2, lm_3), type=\"text\")"
   ]
  },
  {
   "cell_type": "code",
   "execution_count": null,
   "id": "efficient-increase",
   "metadata": {
    "attributes": {
     "classes": [],
     "echo": "FALSE",
     "exercise": "TRUE,",
     "id": ""
    }
   },
   "outputs": [],
   "source": [
    "%%R\n",
    "\n",
    "#using all data (note data used is lmb_data, not lmb_subset)\n",
    "lm_1 <- lm_robust(score ~ lagdemocrat, data = lmb_data, clusters = id)\n",
    "lm_2 <- lm_robust(score ~ democrat, data = lmb_data, clusters = id)\n",
    "lm_3 <- lm_robust(democrat ~ lagdemocrat, data = lmb_data, clusters = id)\n",
    "\n",
    "cli::cli_text(\"Results based on ADA Scores -- Full Sample\")\n",
    "texreg::knitreg(list(lm_1, lm_2, lm_3), type=\"text\")"
   ]
  },
  {
   "cell_type": "code",
   "execution_count": null,
   "id": "raising-glossary",
   "metadata": {
    "attributes": {
     "classes": [],
     "echo": "FALSE",
     "exercise": "TRUE,",
     "id": ""
    }
   },
   "outputs": [],
   "source": [
    "%%R\n",
    "\n",
    "lm_1 <- lm_robust(score ~ lagdemocrat + demvoteshare_c, data = lmb_data, clusters = id)\n",
    "lm_2 <- lm_robust(score ~ democrat + demvoteshare_c, data = lmb_data, clusters = id)\n",
    "lm_3 <- lm_robust(democrat ~ lagdemocrat + demvoteshare_c, data = lmb_data, clusters = id)\n",
    "\n",
    "cli::cli_text(\"Results based on ADA Scores -- Full Sample\")\n",
    "texreg::screenreg(list(lm_1, lm_2, lm_3), type=\"text\")"
   ]
  },
  {
   "cell_type": "code",
   "execution_count": null,
   "id": "excess-prediction",
   "metadata": {
    "attributes": {
     "classes": [],
     "echo": "FALSE",
     "exercise": "TRUE,",
     "id": ""
    }
   },
   "outputs": [],
   "source": [
    "%%R\n",
    "\n",
    "lm_1 <- lm_robust(score ~ lagdemocrat*demvoteshare_c, \n",
    "                  data = lmb_data, clusters = id)\n",
    "lm_2 <- lm_robust(score ~ democrat*demvoteshare_c, \n",
    "                  data = lmb_data, clusters = id)\n",
    "lm_3 <- lm_robust(democrat ~ lagdemocrat*demvoteshare_c, \n",
    "                  data = lmb_data, clusters = id)\n",
    "\n",
    "cli::cli_text(\"Results based on ADA Scores -- Full Sample with linear interactions\")\n",
    "texreg::screenreg(list(lm_1, lm_2, lm_3), type=\"text\")"
   ]
  },
  {
   "cell_type": "code",
   "execution_count": null,
   "id": "protective-kuwait",
   "metadata": {
    "attributes": {
     "classes": [],
     "echo": "FALSE",
     "exercise": "TRUE,",
     "id": ""
    }
   },
   "outputs": [],
   "source": [
    "%%R\n",
    "\n",
    "lmb_data <- lmb_data %>% \n",
    "  mutate(demvoteshare_sq = demvoteshare_c^2)\n",
    "\n",
    "lm_1 <- lm_robust(score ~ lagdemocrat*demvoteshare_c + lagdemocrat*demvoteshare_sq, \n",
    "                  data = lmb_data, clusters = id)\n",
    "lm_2 <- lm_robust(score ~ democrat*demvoteshare_c + democrat*demvoteshare_sq, \n",
    "                  data = lmb_data, clusters = id)\n",
    "lm_3 <- lm_robust(democrat ~ lagdemocrat*demvoteshare_c + lagdemocrat*demvoteshare_sq, \n",
    "                  data = lmb_data, clusters = id)\n",
    "\n",
    "\n",
    "cli::cli_text(\"Results based on ADA Scores -- Full Sample with linear and quadratic interactions\")\n",
    "texreg::screenreg(list(lm_1, lm_2, lm_3), type=\"text\")\n"
   ]
  },
  {
   "cell_type": "code",
   "execution_count": null,
   "id": "architectural-windows",
   "metadata": {
    "attributes": {
     "classes": [],
     "echo": "FALSE",
     "exercise": "TRUE,",
     "id": ""
    }
   },
   "outputs": [],
   "source": [
    "%%R\n",
    "\n",
    "lmb_data <- lmb_data %>% \n",
    "  filter(demvoteshare > .45 & demvoteshare < .55) %>%\n",
    "  mutate(demvoteshare_sq = demvoteshare_c^2)\n",
    "\n",
    "lm_1 <- lm_robust(score ~ lagdemocrat*demvoteshare_c + lagdemocrat*demvoteshare_sq, \n",
    "                  data = lmb_data, clusters = id)\n",
    "lm_2 <- lm_robust(score ~ democrat*demvoteshare_c + democrat*demvoteshare_sq, \n",
    "                  data = lmb_data, clusters = id)\n",
    "lm_3 <- lm_robust(democrat ~ lagdemocrat*demvoteshare_c + lagdemocrat*demvoteshare_sq, \n",
    "                  data = lmb_data, clusters = id)\n",
    "\n",
    "\n",
    "cli::cli_text(\"Results based on ADA Scores -- Close election sample with linear and quadratic interactions\")\n",
    "texreg::screenreg(list(lm_1, lm_2, lm_3), type=\"text\")"
   ]
  },
  {
   "cell_type": "code",
   "execution_count": null,
   "id": "copyrighted-poetry",
   "metadata": {
    "attributes": {
     "classes": [],
     "echo": "FALSE",
     "exercise": "TRUE,",
     "id": ""
    }
   },
   "outputs": [],
   "source": [
    "%%R\n",
    "\n",
    "#aggregating the data\n",
    "categories <- lmb_data$lagdemvoteshare\n",
    "\n",
    "demmeans <- split(lmb_data$score, cut(lmb_data$lagdemvoteshare, 100)) %>% \n",
    "  lapply(mean) %>% \n",
    "  unlist()\n",
    "\n",
    "agg_lmb_data <- data.frame(score = demmeans, lagdemvoteshare = seq(0.01,1, by = 0.01))\n",
    "\n",
    "#plotting\n",
    "lmb_data <- lmb_data %>% \n",
    "  mutate(gg_group = case_when(lagdemvoteshare > 0.5 ~ 1, TRUE ~ 0))\n",
    "         \n",
    "ggplot(lmb_data, aes(lagdemvoteshare, score)) +\n",
    "  geom_point(aes(x = lagdemvoteshare, y = score), data = agg_lmb_data) +\n",
    "  stat_smooth(aes(lagdemvoteshare, score, group = gg_group), method = \"lm\", \n",
    "              formula = y ~ x + I(x^2)) +\n",
    "  xlim(0,1) + ylim(0,100) +\n",
    "  geom_vline(xintercept = 0.5)\n",
    "\n",
    "ggplot(lmb_data, aes(lagdemvoteshare, score)) +\n",
    "  geom_point(aes(x = lagdemvoteshare, y = score), data = agg_lmb_data) +\n",
    "  stat_smooth(aes(lagdemvoteshare, score, group = gg_group), method = \"loess\") +\n",
    "  xlim(0,1) + ylim(0,100) +\n",
    "  geom_vline(xintercept = 0.5)\n",
    "\n",
    "ggplot(lmb_data, aes(lagdemvoteshare, score)) +\n",
    "  geom_point(aes(x = lagdemvoteshare, y = score), data = agg_lmb_data) +\n",
    "  stat_smooth(aes(lagdemvoteshare, score, group = gg_group), method = \"lm\") +\n",
    "  xlim(0,1) + ylim(0,100) +\n",
    "  geom_vline(xintercept = 0.5)\n"
   ]
  },
  {
   "cell_type": "code",
   "execution_count": null,
   "id": "civil-occasions",
   "metadata": {
    "attributes": {
     "classes": [],
     "echo": "FALSE",
     "exercise": "TRUE,",
     "id": ""
    }
   },
   "outputs": [],
   "source": [
    "%%R\n",
    "\n",
    "smooth_dem0 <- lmb_data %>% \n",
    "  filter(democrat == 0) %>% \n",
    "  select(score, demvoteshare)\n",
    "smooth_dem0 <- as_tibble(ksmooth(smooth_dem0$demvoteshare, smooth_dem0$score, \n",
    "                                 kernel = \"box\", bandwidth = 0.1))\n",
    "\n",
    "\n",
    "smooth_dem1 <- lmb_data %>% \n",
    "  filter(democrat == 1) %>% \n",
    "  select(score, demvoteshare) %>% \n",
    "  na.omit()\n",
    "smooth_dem1 <- as_tibble(ksmooth(smooth_dem1$demvoteshare, smooth_dem1$score, \n",
    "                                 kernel = \"box\", bandwidth = 0.1))\n",
    "\n",
    "ggplot() + \n",
    "  geom_smooth(aes(x, y), data = smooth_dem0) +\n",
    "  geom_smooth(aes(x, y), data = smooth_dem1) +\n",
    "  geom_vline(xintercept = 0.5)"
   ]
  },
  {
   "cell_type": "code",
   "execution_count": null,
   "id": "returning-belly",
   "metadata": {
    "attributes": {
     "classes": [],
     "echo": "FALSE",
     "exercise": "TRUE,",
     "id": ""
    }
   },
   "outputs": [],
   "source": [
    "%%R\n",
    "\n",
    "rdr <- rdrobust(y = lmb_data$score,\n",
    "                x = lmb_data$demvoteshare, c = 0.5)\n",
    "summary(rdr)"
   ]
  },
  {
   "cell_type": "code",
   "execution_count": null,
   "id": "practical-appraisal",
   "metadata": {
    "attributes": {
     "classes": [],
     "echo": "FALSE",
     "exercise": "TRUE,",
     "id": ""
    }
   },
   "outputs": [],
   "source": [
    "%%R\n",
    "\n",
    "DCdensity(lmb_data$demvoteshare, cutpoint = 0.5)\n",
    "\n",
    "density <- rddensity(lmb_data$demvoteshare, c = 0.5)\n",
    "rdplotdensity(density, lmb_data$demvoteshare)\n"
   ]
  },
  {
   "cell_type": "markdown",
   "id": "knowing-blues",
   "metadata": {},
   "source": [
    "#### Questions\n",
    "- Can you think of another example where you might use the close election design to estimate some average treatment effect?\n",
    "- To what degree does this study help us understand the importance of incumbency in a Presidential election?  Why/why not?"
   ]
  }
 ],
 "metadata": {},
 "nbformat": 4,
 "nbformat_minor": 5
}
