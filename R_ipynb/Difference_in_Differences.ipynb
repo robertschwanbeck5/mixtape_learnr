{
 "cells": [
  {
   "cell_type": "markdown",
   "id": "retained-spine",
   "metadata": {},
   "source": [
    "\n",
    "## Welcome\n",
    "\n",
    "This is material for the **Difference-in-Differences** chapter in Scott Cunningham's book, [Causal Inference: The Mixtape.](https://mixtape.scunning.com/)"
   ]
  },
  {
   "source": [
    "\n",
    "### Packages needed\n",
    "\n",
    "The first thing you need to do is install a few packages to make sure everything runs:"
   ],
   "cell_type": "markdown",
   "metadata": {}
  },
  {
   "cell_type": "code",
   "execution_count": null,
   "metadata": {},
   "outputs": [],
   "source": [
    "%load_ext rpy2.ipython"
   ]
  },
  {
   "cell_type": "code",
   "execution_count": null,
   "id": "nuclear-class",
   "metadata": {
    "attributes": {
     "": "",
     "classes": [],
     "id": ""
    }
   },
   "outputs": [],
   "source": [
    "%%R \n",
    "\n",
    "install.packages(\"tidyverse\")\n",
    "install.packages(\"cli\")\n",
    "install.packages(\"haven\")\n",
    "install.packages(\"stargazer\")\n",
    "install.packages(\"estimatr\")\n",
    "\n",
    "# This chapter only\n",
    "install.packages(\"lfe\")\n",
    "install.packages(\"bacondecomp\")"
   ]
  },
  {
   "cell_type": "markdown",
   "id": "patent-inside",
   "metadata": {},
   "source": [
    "### Load"
   ]
  },
  {
   "cell_type": "code",
   "execution_count": null,
   "id": "mechanical-revision",
   "metadata": {
    "attributes": {
     "classes": [],
     "id": "",
     "message": "FALSE",
     "warning": "FALSE,"
    }
   },
   "outputs": [],
   "source": [
    "%%R \n",
    "\n",
    "library(haven)\n",
    "library(tidyverse)\n",
    "library(stargazer)\n",
    "library(estimatr)\n",
    "\n",
    "# This chapter only\n",
    "library(lfe)\n",
    "library(bacondecomp)\n",
    "\n",
    "# read_data function\n",
    "read_data <- function(df) {\n",
    "  full_path <- paste0(\"https://github.com/scunning1975/mixtape/raw/master/\", df)\n",
    "  return(haven::read_dta(full_path))\n",
    "}"
   ]
  },
  {
   "cell_type": "markdown",
   "id": "outstanding-clause",
   "metadata": {},
   "source": [
    "## Cunningham and Cornwell (2013)"
   ]
  },
  {
   "cell_type": "code",
   "execution_count": null,
   "id": "revised-recognition",
   "metadata": {
    "attributes": {
     "classes": [],
     "echo": "FALSE",
     "exercise": "TRUE,",
     "id": ""
    }
   },
   "outputs": [],
   "source": [
    "%%R \n",
    "\n",
    "\n",
    "#-- DD estimate of 15-19 year olds in repeal states vs Roe states\n",
    "abortion <- read_data(\"abortion.dta\") %>% \n",
    "  mutate(\n",
    "    repeal = as_factor(repeal),\n",
    "    year   = as_factor(year),\n",
    "    fip    = as_factor(fip),\n",
    "    fa     = as_factor(fa),\n",
    "  )\n",
    "\n",
    "reg <- abortion %>% \n",
    "  filter(bf15 == 1) %>% \n",
    "  lm_robust(lnr ~ repeal*year + fip + acc + ir + pi + alcohol+ crack + poverty+ income+ ur,\n",
    "            data = ., weights = totpop, clusters = fip)\n",
    "\n",
    "abortion_plot <- tibble(\n",
    "  sd = reg$std.error[-1:-75],\n",
    "  mean = reg$coefficients[-1:-75],\n",
    "  year = c(1986:2000))\n",
    "\n",
    "abortion_plot %>% \n",
    "  ggplot(aes(x = year, y = mean)) + \n",
    "  geom_rect(aes(xmin=1985, xmax=1992, ymin=-Inf, ymax=Inf), fill = \"cyan\", alpha = 0.01)+\n",
    "  geom_point()+\n",
    "  geom_text(aes(label = year), hjust=-0.002, vjust = -0.03)+\n",
    "  geom_hline(yintercept = 0) +\n",
    "  geom_errorbar(aes(ymin = mean - sd*1.96, ymax = mean + sd*1.96), width = 0.2,\n",
    "                position = position_dodge(0.05)) +\n",
    "  labs(title= \"Estimated effect of abortion legalization on gonorrhea\")\n"
   ]
  },
  {
   "cell_type": "markdown",
   "id": "differential-amsterdam",
   "metadata": {},
   "source": [
    "#### Questions\n",
    "- Describe in your own words the testable predictions from the roll out of repeal versus Roe in the population?  In other words, describe the behavior of the DD coefficients under this regression.  \n",
    "- Do we find evidence consistent with this in our DD analysis?  List all the evidence for and against the hypothesis in this analysis. \n",
    "- Does it appear that there was an effect in the period where Roe has not fully caught up?"
   ]
  },
  {
   "cell_type": "code",
   "execution_count": null,
   "id": "strange-senator",
   "metadata": {
    "attributes": {
     "classes": [],
     "echo": "FALSE",
     "exercise": "TRUE,",
     "id": ""
    }
   },
   "outputs": [],
   "source": [
    "%%R \n",
    "\n",
    "\n",
    "abortion <- read_data(\"abortion.dta\") %>% \n",
    "  mutate(\n",
    "    repeal  = as_factor(repeal),\n",
    "    year    = as_factor(year),\n",
    "    fip     = as_factor(fip),\n",
    "    fa      = as_factor(fa),\n",
    "    younger = as_factor(younger),\n",
    "    yr      = as_factor(case_when(repeal == 1 & younger == 1 ~ 1, TRUE ~ 0)),\n",
    "    wm      = as_factor(case_when(wht == 1 & male == 1 ~ 1, TRUE ~ 0)),\n",
    "    wf      = as_factor(case_when(wht == 1 & male == 0 ~ 1, TRUE ~ 0)),\n",
    "    bm      = as_factor(case_when(wht == 0 & male == 1 ~ 1, TRUE ~ 0)),\n",
    "    bf      = as_factor(case_when(wht == 0 & male == 0 ~ 1, TRUE ~ 0))\n",
    "  ) %>% \n",
    "  filter(bf == 1 & (age == 15 | age == 25))\n",
    "\n",
    "regddd <- lm_robust(lnr ~ repeal*year + younger*repeal + younger*year + yr*year + fip*t + acc + ir + pi + alcohol + crack + poverty + income + ur,\n",
    "                    data = abortion, weights = totpop, clusters = fip)\n",
    "\n",
    "abortion_plot <- tibble(\n",
    "  sd = regddd$std.error[110:124],\n",
    "  mean = regddd$coefficients[110:124],\n",
    "  year = c(1986:2000))\n",
    "\n",
    "abortion_plot %>% \n",
    "  ggplot(aes(x = year, y = mean)) + \n",
    "  geom_rect(aes(xmin=1986, xmax=1992, ymin=-Inf, ymax=Inf), fill = \"cyan\", alpha = 0.01)+\n",
    "  geom_point()+\n",
    "  geom_text(aes(label = year), hjust=-0.002, vjust = -0.03)+\n",
    "  geom_hline(yintercept = 0) +\n",
    "  geom_errorbar(aes(ymin = mean-sd*1.96, ymax = mean+sd*1.96), width = 0.2,\n",
    "                position = position_dodge(0.05)) +\n",
    "  labs(\n",
    "    title= \"Estimated effect of abortion legalization on gonorrhea\", \n",
    "    subtitle= \"Black female 15-19 year-olds vs. Black female 25-29 year-olds\")\n"
   ]
  },
  {
   "cell_type": "markdown",
   "id": "grand-approval",
   "metadata": {},
   "source": [
    "#### Questions\n",
    "- Why did we implement a triple difference?  What problems does this solve and to what degree do you feel it is a necessary check?\n",
    "- Describe the evidence for and against the abortion selection hypothesis when using triple difference?  How is it consistent with our DD and how is it not?"
   ]
  },
  {
   "cell_type": "code",
   "execution_count": null,
   "id": "revised-bridge",
   "metadata": {
    "attributes": {
     "classes": [],
     "echo": "FALSE",
     "exercise": "TRUE,",
     "id": ""
    }
   },
   "outputs": [],
   "source": [
    "%%R \n",
    "\n",
    "abortion <- read_data(\"abortion.dta\") %>% \n",
    "  mutate(\n",
    "    repeal = as_factor(repeal),\n",
    "    year   = as_factor(year),\n",
    "    fip    = as_factor(fip),\n",
    "    fa     = as_factor(fa),\n",
    "  )\n",
    "\n",
    "reg <- abortion %>% \n",
    "  filter(race == 2 & sex == 2 & age == 20) %>% \n",
    "  lm_robust(lnr ~ repeal*year + fip + acc + ir + pi + alcohol+ crack + poverty+ income+ ur,\n",
    "            data = ., weights = totpop, clusters = fip)\n",
    "\n",
    "reg\n"
   ]
  },
  {
   "cell_type": "code",
   "execution_count": null,
   "id": "breathing-diversity",
   "metadata": {
    "attributes": {
     "classes": [],
     "echo": "FALSE",
     "exercise": "TRUE,",
     "id": ""
    }
   },
   "outputs": [],
   "source": [
    "%%R \n",
    "\n",
    "abortion <- read_data(\"abortion.dta\") %>% \n",
    "  mutate(\n",
    "    repeal   = as_factor(repeal),\n",
    "    year     = as_factor(year),\n",
    "    fip      = as_factor(fip),\n",
    "    fa       = as_factor(fa),\n",
    "    younger2 = case_when(age == 20 ~ 1, TRUE ~ 0),\n",
    "    yr2      = as_factor(case_when(repeal == 1 & younger2 == 1 ~ 1, TRUE ~ 0)),\n",
    "    wm       = as_factor(case_when(wht == 1 & male == 1 ~ 1, TRUE ~ 0)),\n",
    "    wf       = as_factor(case_when(wht == 1 & male == 0 ~ 1, TRUE ~ 0)),\n",
    "    bm       = as_factor(case_when(wht == 0 & male == 1 ~ 1, TRUE ~ 0)),\n",
    "    bf       = as_factor(case_when(wht == 0 & male == 0 ~ 1, TRUE ~ 0))\n",
    "  )\n",
    "\n",
    "regddd <- abortion %>% \n",
    "  filter(bf == 1 & (age == 20 | age ==25)) %>% \n",
    "  lm_robust(lnr ~ repeal*year + acc + ir + pi + alcohol + crack + poverty + income + ur,\n",
    "            data = ., weights = totpop, clusters = fip)\n",
    "\n",
    "regddd"
   ]
  },
  {
   "cell_type": "markdown",
   "id": "fabulous-boulder",
   "metadata": {},
   "source": [
    "#### Questions\n",
    "- Why did we suggest that conducting this additional analysis not conducted in the original study?\n",
    "- How convinced are you now of the abortion selection hypothesis?  Why/why not?\n",
    "- Could you have concluded this had you not exploited all of the testable predictions of the original table showing roll out across cohort and time?  \n",
    "- How important was our ``model`` to forming testable predictions and falsifications? \n",
    "\n",
    "## Cheng and Hoekstra (2013)"
   ]
  },
  {
   "cell_type": "code",
   "execution_count": null,
   "id": "blocked-market",
   "metadata": {
    "attributes": {
     "classes": [],
     "echo": "FALSE",
     "exercise": "TRUE,",
     "id": ""
    }
   },
   "outputs": [],
   "source": [
    "%%R \n",
    "\n",
    "\n",
    "castle <- read_data(\"castle.dta\")\n",
    "\n",
    "#--- global variables\n",
    "crime1 <- c(\"jhcitizen_c\", \"jhpolice_c\", \n",
    "            \"murder\", \"homicide\", \n",
    "            \"robbery\", \"assault\", \"burglary\",\n",
    "            \"larceny\", \"motor\", \"robbery_gun_r\")\n",
    "\n",
    "demo <- c(\"emo\", \"blackm_15_24\", \"whitem_15_24\", \n",
    "          \"blackm_25_44\", \"whitem_25_44\")\n",
    "\n",
    "# variables dropped to prevent colinearity\n",
    "dropped_vars <- c(\"r20004\", \"r20014\",\n",
    "                  \"r20024\", \"r20034\",\n",
    "                  \"r20044\", \"r20054\",\n",
    "                  \"r20064\", \"r20074\",\n",
    "                  \"r20084\", \"r20094\",\n",
    "                  \"r20101\", \"r20102\", \"r20103\",\n",
    "                  \"r20104\", \"trend_9\", \"trend_46\",\n",
    "                  \"trend_49\", \"trend_50\", \"trend_51\"\n",
    ")\n",
    "\n",
    "lintrend <- castle %>%\n",
    "    select(starts_with(\"trend\")) %>% \n",
    "  colnames %>% \n",
    "  # remove due to colinearity\n",
    "  subset(.,! . %in% dropped_vars) \n",
    "\n",
    "region <- castle %>%\n",
    "  select(starts_with(\"r20\")) %>% \n",
    "  colnames %>% \n",
    "  # remove due to colinearity\n",
    "  subset(.,! . %in% dropped_vars) \n",
    "\n",
    "\n",
    "exocrime <- c(\"l_lacerny\", \"l_motor\")\n",
    "spending <- c(\"l_exp_subsidy\", \"l_exp_pubwelfare\")\n",
    "\n",
    "\n",
    "xvar <- c(\n",
    "  \"blackm_15_24\", \"whitem_15_24\", \"blackm_25_44\", \"whitem_25_44\",\n",
    "  \"l_exp_subsidy\", \"l_exp_pubwelfare\",\n",
    "  \"l_police\", \"unemployrt\", \"poverty\", \n",
    "  \"l_income\", \"l_prisoner\", \"l_lagprisoner\"\n",
    ")\n",
    "\n",
    "law <- c(\"cdl\")\n",
    "\n",
    "dd_formula <- as.formula(\n",
    "  paste(\"l_homicide ~ \",\n",
    "        paste(\n",
    "          paste(xvar, collapse = \" + \"),\n",
    "          paste(region, collapse = \" + \"),\n",
    "          paste(lintrend, collapse = \" + \"),\n",
    "          paste(\"post\", collapse = \" + \"), sep = \" + \"),\n",
    "        \"| year + sid | 0 | sid\"\n",
    "  )\n",
    ")\n",
    "\n",
    "#Fixed effect regression using post as treatment variable \n",
    "dd_reg <- lfe::felm(dd_formula, weights = castle$popwt, data = castle)\n",
    "summary(dd_reg)\n",
    "\n"
   ]
  },
  {
   "cell_type": "markdown",
   "id": "ranking-monitor",
   "metadata": {},
   "source": [
    "#### QUESTIONS\n",
    "\n",
    "- What effect does this analysis say reforming castle doctrine laws has on homicides?\n",
    "- What are the key parts of these legislative reforms that you think may be causing this result?\n",
    "- Explain what SUTVA requires in order for these estimates to be causal?\n",
    "- Assume there are spillovers to neighboring states created by castle doctrine reforms.  Does that imply that Cheng and Hoekstra's result is too large or too small?  Why/why not?"
   ]
  },
  {
   "cell_type": "code",
   "execution_count": null,
   "id": "cellular-emperor",
   "metadata": {
    "attributes": {
     "classes": [],
     "echo": "FALSE",
     "exercise": "TRUE,",
     "id": ""
    }
   },
   "outputs": [],
   "source": [
    "%%R \n",
    "\n",
    "castle <- castle %>%\n",
    "  mutate(\n",
    "    time_til = year - treatment_date,\n",
    "    lead1 = case_when(time_til == -1 ~ 1, TRUE ~ 0),\n",
    "    lead2 = case_when(time_til == -2 ~ 1, TRUE ~ 0),\n",
    "    lead3 = case_when(time_til == -3 ~ 1, TRUE ~ 0),\n",
    "    lead4 = case_when(time_til == -4 ~ 1, TRUE ~ 0),\n",
    "    lead5 = case_when(time_til == -5 ~ 1, TRUE ~ 0),\n",
    "    lead6 = case_when(time_til == -6 ~ 1, TRUE ~ 0),\n",
    "    lead7 = case_when(time_til == -7 ~ 1, TRUE ~ 0),\n",
    "    lead8 = case_when(time_til == -8 ~ 1, TRUE ~ 0),\n",
    "    lead9 = case_when(time_til == -9 ~ 1, TRUE ~ 0),\n",
    "    lag0 = case_when(time_til == 0 ~ 1, TRUE ~ 0),\n",
    "    lag1 = case_when(time_til == 1 ~ 1, TRUE ~ 0),\n",
    "    lag2 = case_when(time_til == 2 ~ 1, TRUE ~ 0),\n",
    "    lag3 = case_when(time_til == 3 ~ 1, TRUE ~ 0),\n",
    "    lag4 = case_when(time_til == 4 ~ 1, TRUE ~ 0),\n",
    "    lag5 = case_when(time_til == 5 ~ 1, TRUE ~ 0)\n",
    "  )\n",
    "\n",
    "event_study_formula <- as.formula(\n",
    "  paste(\"l_homicide ~ + \",\n",
    "        paste(\n",
    "          paste(region, collapse = \" + \"),\n",
    "          paste(paste(\"lead\", 1:9, sep = \"\"), collapse = \" + \"),\n",
    "          paste(paste(\"lag\", 1:5, sep = \"\"), collapse = \" + \"), sep = \" + \"),\n",
    "        \"| year + state | 0 | sid\"\n",
    "  ),\n",
    ")\n",
    "\n",
    "event_study_reg <- lfe::felm(event_study_formula, weights = castle$popwt, data = castle)\n",
    "summary(event_study_reg)\n"
   ]
  },
  {
   "cell_type": "markdown",
   "id": "biological-allah",
   "metadata": {},
   "source": [
    "#### QUESTIONS\n",
    "- Put into your own words why we estimated the pre-treatment leads?\n",
    "- Put into your own words what we expected to find?\n",
    "- How convinced are you by this analysis that parallel trends was likely to hold in Cheng and Hoekstra's data?"
   ]
  },
  {
   "cell_type": "code",
   "execution_count": null,
   "id": "indie-norfolk",
   "metadata": {
    "attributes": {
     "classes": [],
     "echo": "FALSE",
     "exercise": "TRUE,",
     "id": ""
    }
   },
   "outputs": [],
   "source": [
    "%%R \n",
    "\n",
    "\n",
    "castle <- castle %>%\n",
    "  mutate(\n",
    "    time_til = year - treatment_date,\n",
    "    lead1 = case_when(time_til == -1 ~ 1, TRUE ~ 0),\n",
    "    lead2 = case_when(time_til == -2 ~ 1, TRUE ~ 0),\n",
    "    lead3 = case_when(time_til == -3 ~ 1, TRUE ~ 0),\n",
    "    lead4 = case_when(time_til == -4 ~ 1, TRUE ~ 0),\n",
    "    lead5 = case_when(time_til == -5 ~ 1, TRUE ~ 0),\n",
    "    lead6 = case_when(time_til == -6 ~ 1, TRUE ~ 0),\n",
    "    lead7 = case_when(time_til == -7 ~ 1, TRUE ~ 0),\n",
    "    lead8 = case_when(time_til == -8 ~ 1, TRUE ~ 0),\n",
    "    lead9 = case_when(time_til == -9 ~ 1, TRUE ~ 0),\n",
    "    \n",
    "    lag0 = case_when(time_til == 0 ~ 1, TRUE ~ 0),\n",
    "    lag1 = case_when(time_til == 1 ~ 1, TRUE ~ 0),\n",
    "    lag2 = case_when(time_til == 2 ~ 1, TRUE ~ 0),\n",
    "    lag3 = case_when(time_til == 3 ~ 1, TRUE ~ 0),\n",
    "    lag4 = case_when(time_til == 4 ~ 1, TRUE ~ 0),\n",
    "    lag5 = case_when(time_til == 5 ~ 1, TRUE ~ 0)\n",
    "  )\n",
    "\n",
    "event_study_formula <- as.formula(\n",
    "  paste(\"l_homicide ~ + \",\n",
    "        paste(\n",
    "          paste(region, collapse = \" + \"),\n",
    "          paste(paste(\"lead\", 1:9, sep = \"\"), collapse = \" + \"),\n",
    "          paste(paste(\"lag\", 1:5, sep = \"\"), collapse = \" + \"), sep = \" + \"),\n",
    "        \"| year + state | 0 | sid\"\n",
    "  ),\n",
    ")\n",
    "\n",
    "event_study_reg <- lfe::felm(event_study_formula, weights = castle$popwt, data = castle)\n",
    "\n",
    "# order of the coefficients for the plot\n",
    "plot_order <- c(\"lead9\", \"lead8\", \"lead7\", \n",
    "                \"lead6\", \"lead5\", \"lead4\", \"lead3\", \n",
    "                \"lead2\", \"lead1\", \"lag1\", \n",
    "                \"lag2\", \"lag3\", \"lag4\", \"lag5\")\n",
    "\n",
    "# grab the clustered standard errors\n",
    "# and average coefficient estimates\n",
    "# from the regression, label them accordingly\n",
    "# add a zero'th lag for plotting purposes\n",
    "leadslags_plot <- tibble(\n",
    "  sd = c(event_study_reg$cse[plot_order], 0),\n",
    "  mean = c(coef(event_study_reg)[plot_order], 0),\n",
    "  label = c(-9,-8,-7,-6, -5, -4, -3, -2, -1, 1,2,3,4,5, 0)\n",
    ")\n",
    "\n",
    "# This version has a point-range at each\n",
    "# estimated lead or lag\n",
    "# comes down to stylistic preference at the\n",
    "# end of the day!\n",
    "leadslags_plot %>%\n",
    "  ggplot(aes(x = label, y = mean,\n",
    "             ymin = mean-1.96*sd, \n",
    "             ymax = mean+1.96*sd)) +\n",
    "  geom_hline(yintercept = 0.035169444, color = \"red\") +\n",
    "  geom_pointrange() +\n",
    "  theme_minimal() +\n",
    "  xlab(\"Years before and after castle doctrine expansion\") +\n",
    "  ylab(\"log(Homicide Rate)\") +\n",
    "  geom_hline(yintercept = 0,\n",
    "             linetype = \"dashed\") +\n",
    "  geom_vline(xintercept = 0,\n",
    "             linetype = \"dashed\")\n",
    "  \n"
   ]
  },
  {
   "cell_type": "code",
   "execution_count": null,
   "metadata": {},
   "outputs": [],
   "source": []
  }
 ],
 "metadata": {
  "kernelspec": {
   "name": "python3",
   "display_name": "Python 3.8.5 64-bit",
   "metadata": {
    "interpreter": {
     "hash": "aee8b7b246df8f9039afb4144a1f6fd8d2ca17a180786b69acc140d282b71a49"
    }
   }
  }
 },
 "nbformat": 4,
 "nbformat_minor": 5
}
