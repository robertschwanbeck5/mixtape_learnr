{
 "cells": [
  {
   "cell_type": "markdown",
   "id": "municipal-visit",
   "metadata": {},
   "source": [
    "## Welcome\n",
    "\n",
    "This is material for the **Potential Outcomes** chapter in Scott Cunningham's book, [Causal Inference: The Mixtape.](https://mixtape.scunning.com/)\n"
   ]
  },
  {
   "source": [
    "\n",
    "### Packages needed\n",
    "\n",
    "The first thing you need to do is install a few packages to make sure everything runs:"
   ],
   "cell_type": "markdown",
   "metadata": {}
  },
  {
   "cell_type": "code",
   "execution_count": null,
   "metadata": {},
   "outputs": [],
   "source": [
    "%load_ext rpy2.ipython"
   ]
  },
  {
   "cell_type": "code",
   "execution_count": null,
   "id": "comic-nickel",
   "metadata": {
    "attributes": {
     "": "",
     "classes": [],
     "id": ""
    }
   },
   "outputs": [],
   "source": [
    "%%R\n",
    "\n",
    "install.packages(\"tidyverse\")\n",
    "install.packages(\"cli\")\n",
    "install.packages(\"haven\")\n",
    "install.packages(\"stargazer\")\n",
    "install.packages(\"estimatr\")"
   ]
  },
  {
   "cell_type": "markdown",
   "id": "peripheral-qualification",
   "metadata": {},
   "source": [
    "### Load"
   ]
  },
  {
   "cell_type": "code",
   "execution_count": null,
   "id": "voluntary-clearance",
   "metadata": {
    "attributes": {
     "classes": [],
     "id": "",
     "message": "FALSE",
     "warning": "FALSE,"
    }
   },
   "outputs": [],
   "source": [
    "%%R\n",
    "\n",
    "library(haven)\n",
    "library(tidyverse)\n",
    "library(estimatr)\n",
    "library(stargazer)\n",
    "\n",
    "# read_data function\n",
    "read_data <- function(df) {\n",
    "    full_path <- paste0(\"https://github.com/scunning1975/mixtape/raw/master/\", df)\n",
    "    return(haven::read_dta(full_path))\n",
    "}"
   ]
  },
  {
   "cell_type": "markdown",
   "id": "driving-adoption",
   "metadata": {},
   "source": [
    "## Yule"
   ]
  },
  {
   "cell_type": "code",
   "execution_count": null,
   "id": "going-milton",
   "metadata": {
    "attributes": {
     "classes": [],
     "echo": "FALSE",
     "exercise": "TRUE,",
     "id": ""
    }
   },
   "outputs": [],
   "source": [
    "%%R\n",
    "\n",
    "yule <- read_data(\"yule.dta\") %>%\n",
    "    lm(paup ~ outrelief + old + pop, .)\n",
    "\n",
    "stargazer(yule, type = \"text\")"
   ]
  },
  {
   "cell_type": "markdown",
   "id": "acknowledged-franchise",
   "metadata": {},
   "source": [
    "#### Questions\n",
    "\n",
    "- How do you interpret the coefficient on `outrelief` given it's a percentage change regressed onto a percentage?\n",
    "- Draw a DAG representing what must be true in order for Yule's estimate of `outrelief` on pauper growth rates to be causal?  \n",
    "- Yule concluded that public assistance (`outrelief`) increased pauper growth rates. How convinced are you that all backdoor paths between pauperism and out-relief are blocked once you control for two covariates in a cross-sectional database for all of England? Could there be unobserved determinants of both poverty and public assistance?\n",
    "- If public assistance causes pauper growth rates, but pauper growth rates also causes public assistance, then why won't Yule's regression capture a causal effect of `outrelief` on pauper growth rates?  Explain the concept of reverse causality with Yule's data.\n",
    "\n",
    "\n",
    "\n",
    "## Independence Assumption"
   ]
  },
  {
   "cell_type": "code",
   "execution_count": null,
   "id": "hindu-storage",
   "metadata": {
    "attributes": {
     "classes": [],
     "echo": "FALSE",
     "exercise": "TRUE,",
     "id": ""
    }
   },
   "outputs": [],
   "source": [
    "%%R\n",
    "\n",
    "gap <- function() {\n",
    "    sdo <- tibble(\n",
    "        y1 = c(7, 5, 5, 7, 4, 10, 1, 5, 3, 9),\n",
    "        y0 = c(1, 6, 1, 8, 2, 1, 10, 6, 7, 8),\n",
    "        random = rnorm(10)\n",
    "    ) %>%\n",
    "        arrange(random) %>%\n",
    "        mutate(\n",
    "            d = c(rep(1, 5), rep(0, 5)),\n",
    "            y = d * y1 + (1 - d) * y0\n",
    "        ) %>%\n",
    "        pull(y)\n",
    "\n",
    "    sdo <- mean(sdo[1:5] - sdo[6:10])\n",
    "\n",
    "    return(sdo)\n",
    "}\n",
    "\n",
    "sim <- replicate(1000, gap())\n",
    "mean(sim)"
   ]
  },
  {
   "cell_type": "markdown",
   "id": "refined-profession",
   "metadata": {},
   "source": [
    "#### Questions\n",
    "- The requirement that treatment be independent of potential outcomes states that a choice made by a person must be independent of what they expect to gain or lose from the choice.  Give an example where this is likely true?  What does independence imply about human decision-making?\n",
    "- All of the behavioral sciences, including economics, suggest that independence is unlikely to hold outside of an experiment. What is so special about an experiment where independence will hold?  What is so special about behavior outside an experiment where it is unlikely to hold?\n",
    "- What implication does the decision rule of utility maximization from economics have for our ability to appeal to treatment being distributed independent of potential outcomes?\n",
    "\n",
    "\n",
    "\n",
    "\n",
    "\n",
    "## Fisher Randomization"
   ]
  },
  {
   "cell_type": "code",
   "execution_count": null,
   "id": "retained-distribution",
   "metadata": {
    "attributes": {
     "classes": [],
     "echo": "FALSE",
     "exercise": "TRUE,",
     "id": ""
    }
   },
   "outputs": [],
   "source": [
    "%%R\n",
    "\n",
    "correct <- tibble(\n",
    "    cup = c(1:8),\n",
    "    guess = c(1:4, rep(0, 4))\n",
    ")\n",
    "\n",
    "combo <- as_tibble(t(combn(correct$cup, 4))) %>%\n",
    "    transmute(\n",
    "        cup_1 = V1, cup_2 = V2,\n",
    "        cup_3 = V3, cup_4 = V4\n",
    "    ) %>%\n",
    "    mutate(permutation = 1:70) %>%\n",
    "    crossing(., correct) %>%\n",
    "    arrange(permutation, cup) %>%\n",
    "    mutate(\n",
    "        correct = case_when(\n",
    "            cup_1 == 1 & cup_2 == 2 & cup_3 == 3 & cup_4 == 4 ~ 1,\n",
    "            TRUE ~ 0\n",
    "        )\n",
    "    )\n",
    "\n",
    "p_value <- sum(combo$correct == 1) / nrow(combo)\n",
    "\n",
    "p_value"
   ]
  },
  {
   "cell_type": "markdown",
   "id": "ahead-diagnosis",
   "metadata": {},
   "source": [
    "#### Questions\n",
    "\n",
    "- Using the above simulation, what is the probability that Dr. Bristol selected the correct four cups completely by chance?\n",
    "\n",
    "\n",
    "\n",
    "\n",
    "\n",
    "## Randomization Inference\n",
    "\n",
    "### Fisher Sharp Null"
   ]
  },
  {
   "cell_type": "code",
   "execution_count": null,
   "id": "atlantic-simple",
   "metadata": {
    "attributes": {
     "classes": [],
     "echo": "FALSE",
     "exercise": "TRUE,",
     "id": ""
    }
   },
   "outputs": [],
   "source": [
    "%%R\n",
    "\n",
    "ri <- read_data(\"ri.dta\") %>%\n",
    "    mutate(id = c(1:8))\n",
    "\n",
    "treated <- c(1:4)\n",
    "\n",
    "combo <- ri %$% as_tibble(t(combn(id, 4))) %>%\n",
    "    transmute(\n",
    "        treated1 = V1, treated2 = V2,\n",
    "        treated3 = V3, treated4 = V4\n",
    "    ) %>%\n",
    "    mutate(permutation = 1:70) %>%\n",
    "    crossing(., ri) %>%\n",
    "    arrange(permutation, name) %>%\n",
    "    mutate(d = case_when(\n",
    "        id == treated1 | id == treated2 |\n",
    "            id == treated3 | id == treated4 ~ 1,\n",
    "        TRUE ~ 0\n",
    "    ))\n",
    "\n",
    "te1 <- combo %>%\n",
    "    group_by(permutation) %>%\n",
    "    filter(d == 1) %>%\n",
    "    summarize(te1 = mean(y, na.rm = TRUE))\n",
    "\n",
    "te0 <- combo %>%\n",
    "    group_by(permutation) %>%\n",
    "    filter(d == 0) %>%\n",
    "    summarize(te0 = mean(y, na.rm = TRUE))\n",
    "\n",
    "n <- nrow(inner_join(te1, te0, by = \"permutation\"))\n",
    "\n",
    "p_value <- inner_join(te1, te0, by = \"permutation\") %>%\n",
    "    mutate(ate = te1 - te0) %>%\n",
    "    dplyr::select(permutation, ate) %>%\n",
    "    arrange(desc(ate)) %>%\n",
    "    mutate(rank = 1:nrow(.)) %>%\n",
    "    filter(permutation == 1) %>%\n",
    "    pull(rank) / n\n",
    "\n",
    "p_value"
   ]
  },
  {
   "cell_type": "markdown",
   "id": "funky-marine",
   "metadata": {},
   "source": [
    "#### Questions\n",
    "\n",
    "- Can we reject the null in the placebo distribution?\n",
    "\n",
    "\n",
    "\n",
    "### KS Test"
   ]
  },
  {
   "cell_type": "code",
   "execution_count": null,
   "id": "animated-breach",
   "metadata": {
    "attributes": {
     "classes": [],
     "echo": "FALSE",
     "exercise": "TRUE,",
     "id": ""
    }
   },
   "outputs": [],
   "source": [
    "%%R\n",
    "\n",
    "library(stats)\n",
    "\n",
    "tb <- tibble(\n",
    "    d = c(rep(0, 20), rep(1, 20)),\n",
    "    y = c(\n",
    "        0.22, -0.87, -2.39, -1.79, 0.37, -1.54,\n",
    "        1.28, -0.31, -0.74, 1.72,\n",
    "        0.38, -0.17, -0.62, -1.10, 0.30,\n",
    "        0.15, 2.30, 0.19, -0.50, -0.9,\n",
    "        -5.13, -2.19, 2.43, -3.83, 0.5,\n",
    "        -3.25, 4.32, 1.63, 5.18, -0.43,\n",
    "        7.11, 4.87, -3.10, -5.81, 3.76,\n",
    "        6.31, 2.58, 0.07, 5.76, 3.50\n",
    "    )\n",
    ")\n",
    "\n",
    "kdensity_d1 <- tb %>%\n",
    "    filter(d == 1) %>%\n",
    "    pull(y)\n",
    "kdensity_d1 <- density(kdensity_d1)\n",
    "\n",
    "kdensity_d0 <- tb %>%\n",
    "    filter(d == 0) %>%\n",
    "    pull(y)\n",
    "kdensity_d0 <- density(kdensity_d0)\n",
    "\n",
    "kdensity_d0 <- tibble(x = kdensity_d0$x, y = kdensity_d0$y, d = 0)\n",
    "kdensity_d1 <- tibble(x = kdensity_d1$x, y = kdensity_d1$y, d = 1)\n",
    "\n",
    "kdensity <- full_join(kdensity_d1, kdensity_d0)\n",
    "kdensity$d <- as_factor(kdensity$d)\n",
    "\n",
    "ggplot(kdensity) +\n",
    "    geom_point(size = 0.3, aes(x, y, color = d)) +\n",
    "    xlim(-7, 8) +\n",
    "    labs(title = \"Kolmogorov-Smirnov Test\") +\n",
    "    scale_color_discrete(labels = c(\"Control\", \"Treatment\"))"
   ]
  },
  {
   "cell_type": "markdown",
   "id": "hybrid-committee",
   "metadata": {},
   "source": [
    "## Approximate $p$-values"
   ]
  },
  {
   "cell_type": "code",
   "execution_count": null,
   "id": "constitutional-purchase",
   "metadata": {
    "attributes": {
     "classes": [],
     "echo": "FALSE",
     "exercise": "TRUE,",
     "id": ""
    }
   },
   "outputs": [],
   "source": [
    "%%R\n",
    "\n",
    "hiv <- read_data(\"thornton_hiv.dta\")\n",
    "\n",
    "# creating the permutations\n",
    "\n",
    "tb <- NULL\n",
    "\n",
    "permuteHIV <- function(df, random = TRUE) {\n",
    "    tb <- df\n",
    "    first_half <- ceiling(nrow(tb) / 2)\n",
    "    second_half <- nrow(tb) - first_half\n",
    "\n",
    "    if (random == TRUE) {\n",
    "        tb <- tb %>%\n",
    "            sample_frac(1) %>%\n",
    "            mutate(any = c(rep(1, first_half), rep(0, second_half)))\n",
    "    }\n",
    "\n",
    "    te1 <- tb %>%\n",
    "        filter(any == 1) %>%\n",
    "        pull(got) %>%\n",
    "        mean(na.rm = TRUE)\n",
    "\n",
    "    te0 <- tb %>%\n",
    "        filter(any == 0) %>%\n",
    "        pull(got) %>%\n",
    "        mean(na.rm = TRUE)\n",
    "\n",
    "    ate <- te1 - te0\n",
    "\n",
    "    return(ate)\n",
    "}\n",
    "\n",
    "permuteHIV(hiv, random = FALSE)\n",
    "\n",
    "iterations <- 1000\n",
    "\n",
    "permutation <- tibble(\n",
    "    iteration = 1:iterations,\n",
    "    ate = as.numeric(\n",
    "        c(permuteHIV(hiv, random = FALSE), map(seq(iterations - 1), ~ permuteHIV(hiv, random = TRUE)))\n",
    "    )\n",
    ")\n",
    "\n",
    "# calculating the p-value\n",
    "\n",
    "permutation <- permutation %>%\n",
    "    arrange(-ate) %>%\n",
    "    mutate(rank = seq(iterations))\n",
    "\n",
    "p_value <- permutation %>%\n",
    "    filter(iteration == 1) %>%\n",
    "    pull(rank) / iterations\n",
    "\n",
    "p_value"
   ]
  },
  {
   "cell_type": "markdown",
   "id": "pleasant-colorado",
   "metadata": {},
   "source": [
    "#### Questions \n",
    "\n",
    "- How does the randomization inference test of no treatment effect differ from a null of no average treatment effect?\n",
    "- How likely is it that Thornton's results were a result of random chance?"
   ]
  }
 ],
 "metadata": {
  "kernelspec": {
   "name": "python3",
   "display_name": "Python 3.8.5 64-bit",
   "metadata": {
    "interpreter": {
     "hash": "aee8b7b246df8f9039afb4144a1f6fd8d2ca17a180786b69acc140d282b71a49"
    }
   }
  }
 },
 "nbformat": 4,
 "nbformat_minor": 5
}
